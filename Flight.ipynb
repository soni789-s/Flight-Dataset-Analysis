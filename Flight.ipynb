{
 "cells": [
  {
   "cell_type": "code",
   "execution_count": 1,
   "id": "7e801817-6d76-4e6d-b5ea-e05229277ea5",
   "metadata": {},
   "outputs": [],
   "source": [
    "import pandas as pd\n",
    "import numpy as np\n",
    "import matplotlib.pyplot as plt\n",
    "import seaborn as sns\n",
    "%matplotlib inline"
   ]
  },
  {
   "cell_type": "code",
   "execution_count": 2,
   "id": "b4b9499c-5b39-421b-9ca7-1838d3a9332d",
   "metadata": {},
   "outputs": [
    {
     "name": "stdout",
     "output_type": "stream",
     "text": [
      "Requirement already satisfied: openpyxl in c:\\users\\udaya\\anaconda3\\lib\\site-packages (3.1.2)\n",
      "Requirement already satisfied: et-xmlfile in c:\\users\\udaya\\anaconda3\\lib\\site-packages (from openpyxl) (1.1.0)\n"
     ]
    }
   ],
   "source": [
    "!pip install openpyxl\n",
    "train_df = pd.read_excel(r\"C:\\Users\\udaya\\OneDrive\\Desktop\\Excel_Tables\\Data_Train.xlsx\")"
   ]
  },
  {
   "cell_type": "code",
   "execution_count": 3,
   "id": "cef381eb-1c3c-43b5-a8b1-13e56fd6c462",
   "metadata": {},
   "outputs": [
    {
     "name": "stdout",
     "output_type": "stream",
     "text": [
      "<class 'pandas.core.frame.DataFrame'>\n",
      "RangeIndex: 10683 entries, 0 to 10682\n",
      "Data columns (total 11 columns):\n",
      " #   Column           Non-Null Count  Dtype \n",
      "---  ------           --------------  ----- \n",
      " 0   Airline          10683 non-null  object\n",
      " 1   Date_of_Journey  10683 non-null  object\n",
      " 2   Source           10683 non-null  object\n",
      " 3   Destination      10683 non-null  object\n",
      " 4   Route            10682 non-null  object\n",
      " 5   Dep_Time         10683 non-null  object\n",
      " 6   Arrival_Time     10683 non-null  object\n",
      " 7   Duration         10683 non-null  object\n",
      " 8   Total_Stops      10682 non-null  object\n",
      " 9   Additional_Info  10683 non-null  object\n",
      " 10  Price            10683 non-null  int64 \n",
      "dtypes: int64(1), object(10)\n",
      "memory usage: 918.2+ KB\n"
     ]
    }
   ],
   "source": [
    "train_df.info()"
   ]
  },
  {
   "cell_type": "code",
   "execution_count": 4,
   "id": "73488424-920d-4599-9b14-ccbc393fa0e2",
   "metadata": {},
   "outputs": [
    {
     "data": {
      "text/html": [
       "<div>\n",
       "<style scoped>\n",
       "    .dataframe tbody tr th:only-of-type {\n",
       "        vertical-align: middle;\n",
       "    }\n",
       "\n",
       "    .dataframe tbody tr th {\n",
       "        vertical-align: top;\n",
       "    }\n",
       "\n",
       "    .dataframe thead th {\n",
       "        text-align: right;\n",
       "    }\n",
       "</style>\n",
       "<table border=\"1\" class=\"dataframe\">\n",
       "  <thead>\n",
       "    <tr style=\"text-align: right;\">\n",
       "      <th></th>\n",
       "      <th>Price</th>\n",
       "    </tr>\n",
       "  </thead>\n",
       "  <tbody>\n",
       "    <tr>\n",
       "      <th>count</th>\n",
       "      <td>10683.000000</td>\n",
       "    </tr>\n",
       "    <tr>\n",
       "      <th>mean</th>\n",
       "      <td>9087.064121</td>\n",
       "    </tr>\n",
       "    <tr>\n",
       "      <th>std</th>\n",
       "      <td>4611.359167</td>\n",
       "    </tr>\n",
       "    <tr>\n",
       "      <th>min</th>\n",
       "      <td>1759.000000</td>\n",
       "    </tr>\n",
       "    <tr>\n",
       "      <th>25%</th>\n",
       "      <td>5277.000000</td>\n",
       "    </tr>\n",
       "    <tr>\n",
       "      <th>50%</th>\n",
       "      <td>8372.000000</td>\n",
       "    </tr>\n",
       "    <tr>\n",
       "      <th>75%</th>\n",
       "      <td>12373.000000</td>\n",
       "    </tr>\n",
       "    <tr>\n",
       "      <th>max</th>\n",
       "      <td>79512.000000</td>\n",
       "    </tr>\n",
       "  </tbody>\n",
       "</table>\n",
       "</div>"
      ],
      "text/plain": [
       "              Price\n",
       "count  10683.000000\n",
       "mean    9087.064121\n",
       "std     4611.359167\n",
       "min     1759.000000\n",
       "25%     5277.000000\n",
       "50%     8372.000000\n",
       "75%    12373.000000\n",
       "max    79512.000000"
      ]
     },
     "execution_count": 4,
     "metadata": {},
     "output_type": "execute_result"
    }
   ],
   "source": [
    "train_df.describe()"
   ]
  },
  {
   "cell_type": "code",
   "execution_count": 5,
   "id": "08ef269c-41c5-4a01-a388-c38202be45fb",
   "metadata": {},
   "outputs": [],
   "source": [
    "test_df = pd.read_excel(r\"C:\\Users\\udaya\\OneDrive\\Desktop\\Excel_Tables\\Test_set.xlsx\")"
   ]
  },
  {
   "cell_type": "code",
   "execution_count": 6,
   "id": "f82da62a-d59e-4560-935d-0d5e15f21af6",
   "metadata": {},
   "outputs": [],
   "source": [
    "final_df =pd.concat([train_df,test_df],ignore_index=True)"
   ]
  },
  {
   "cell_type": "code",
   "execution_count": 7,
   "id": "94cf24dc-d805-4658-bc0a-dfe0b898210b",
   "metadata": {},
   "outputs": [
    {
     "data": {
      "text/plain": [
       "0        [24, 03, 2019]\n",
       "1         [1, 05, 2019]\n",
       "2         [9, 06, 2019]\n",
       "3        [12, 05, 2019]\n",
       "4        [01, 03, 2019]\n",
       "              ...      \n",
       "13349     [6, 06, 2019]\n",
       "13350    [27, 03, 2019]\n",
       "13351     [6, 03, 2019]\n",
       "13352     [6, 03, 2019]\n",
       "13353    [15, 06, 2019]\n",
       "Name: Date_of_Journey, Length: 13354, dtype: object"
      ]
     },
     "execution_count": 7,
     "metadata": {},
     "output_type": "execute_result"
    }
   ],
   "source": [
    "final_df['Date_of_Journey'].str.split('/')"
   ]
  },
  {
   "cell_type": "code",
   "execution_count": 8,
   "id": "ea3fc2ac-566c-430d-8db9-5b861938ed8a",
   "metadata": {},
   "outputs": [],
   "source": [
    "final_df['Date'] = final_df['Date_of_Journey'].str.split('/').str[0]\n",
    "final_df['Month'] = final_df['Date_of_Journey'].str.split('/').str[1]\n",
    "final_df['Year'] = final_df['Date_of_Journey'].str.split('/').str[2]"
   ]
  },
  {
   "cell_type": "code",
   "execution_count": 9,
   "id": "be5062e2-4f30-4e79-a72f-54c9ef09c263",
   "metadata": {},
   "outputs": [],
   "source": [
    "final_df['Date'] = final_df['Date'].astype(int)\n",
    "final_df['Month'] = final_df['Month'].astype(int)\n",
    "final_df['Year'] = final_df['Year'].astype(int)"
   ]
  },
  {
   "cell_type": "code",
   "execution_count": 10,
   "id": "b61b20aa-f168-4305-9d74-44ab24f46320",
   "metadata": {},
   "outputs": [],
   "source": [
    "final_df = final_df.drop('Date_of_Journey',axis=1)"
   ]
  },
  {
   "cell_type": "code",
   "execution_count": 11,
   "id": "874ae3f8-c3ed-4f04-a977-399e68b21532",
   "metadata": {},
   "outputs": [],
   "source": [
    "final_df['Arrival_Time'] = final_df['Arrival_Time'].str.split(\" \").str[0]"
   ]
  },
  {
   "cell_type": "code",
   "execution_count": 12,
   "id": "4e4ac523-94ed-48b3-9db3-80760767dfbd",
   "metadata": {},
   "outputs": [],
   "source": [
    "final_df['Arrival_Hour'] = final_df['Arrival_Time'].str.split(\":\").str[0]\n",
    "final_df['Arrival_Minute'] = final_df['Arrival_Time'].str.split(\":\").str[1]"
   ]
  },
  {
   "cell_type": "code",
   "execution_count": 13,
   "id": "117af115-3f73-4997-9f43-e895601a241c",
   "metadata": {},
   "outputs": [],
   "source": [
    "final_df['Arrival_Hour'] = final_df['Arrival_Hour'].astype(int)\n",
    "final_df['Arrival_Minute'] = final_df['Arrival_Minute'].astype(int)"
   ]
  },
  {
   "cell_type": "code",
   "execution_count": 14,
   "id": "ca60b58d-08b2-4083-88b4-6acad8cd0199",
   "metadata": {},
   "outputs": [],
   "source": [
    "final_df.drop('Arrival_Time',axis=1,inplace=True)"
   ]
  },
  {
   "cell_type": "code",
   "execution_count": 15,
   "id": "90c14e2f-3fd0-4a00-a925-e22f917209c4",
   "metadata": {},
   "outputs": [
    {
     "name": "stdout",
     "output_type": "stream",
     "text": [
      "<class 'pandas.core.frame.DataFrame'>\n",
      "RangeIndex: 13354 entries, 0 to 13353\n",
      "Data columns (total 14 columns):\n",
      " #   Column           Non-Null Count  Dtype  \n",
      "---  ------           --------------  -----  \n",
      " 0   Airline          13354 non-null  object \n",
      " 1   Source           13354 non-null  object \n",
      " 2   Destination      13354 non-null  object \n",
      " 3   Route            13353 non-null  object \n",
      " 4   Dep_Time         13354 non-null  object \n",
      " 5   Duration         13354 non-null  object \n",
      " 6   Total_Stops      13353 non-null  object \n",
      " 7   Additional_Info  13354 non-null  object \n",
      " 8   Price            10683 non-null  float64\n",
      " 9   Date             13354 non-null  int32  \n",
      " 10  Month            13354 non-null  int32  \n",
      " 11  Year             13354 non-null  int32  \n",
      " 12  Arrival_Hour     13354 non-null  int32  \n",
      " 13  Arrival_Minute   13354 non-null  int32  \n",
      "dtypes: float64(1), int32(5), object(8)\n",
      "memory usage: 1.2+ MB\n"
     ]
    }
   ],
   "source": [
    "final_df.info()"
   ]
  },
  {
   "cell_type": "code",
   "execution_count": 16,
   "id": "bb947684-053c-4c58-a6ec-0a43ae4abfe1",
   "metadata": {},
   "outputs": [
    {
     "data": {
      "text/html": [
       "<div>\n",
       "<style scoped>\n",
       "    .dataframe tbody tr th:only-of-type {\n",
       "        vertical-align: middle;\n",
       "    }\n",
       "\n",
       "    .dataframe tbody tr th {\n",
       "        vertical-align: top;\n",
       "    }\n",
       "\n",
       "    .dataframe thead th {\n",
       "        text-align: right;\n",
       "    }\n",
       "</style>\n",
       "<table border=\"1\" class=\"dataframe\">\n",
       "  <thead>\n",
       "    <tr style=\"text-align: right;\">\n",
       "      <th></th>\n",
       "      <th>Airline</th>\n",
       "      <th>Source</th>\n",
       "      <th>Destination</th>\n",
       "      <th>Route</th>\n",
       "      <th>Dep_Time</th>\n",
       "      <th>Duration</th>\n",
       "      <th>Total_Stops</th>\n",
       "      <th>Additional_Info</th>\n",
       "      <th>Price</th>\n",
       "      <th>Date</th>\n",
       "      <th>Month</th>\n",
       "      <th>Year</th>\n",
       "      <th>Arrival_Hour</th>\n",
       "      <th>Arrival_Minute</th>\n",
       "    </tr>\n",
       "  </thead>\n",
       "  <tbody>\n",
       "    <tr>\n",
       "      <th>0</th>\n",
       "      <td>IndiGo</td>\n",
       "      <td>Banglore</td>\n",
       "      <td>New Delhi</td>\n",
       "      <td>BLR → DEL</td>\n",
       "      <td>22:20</td>\n",
       "      <td>2h 50m</td>\n",
       "      <td>non-stop</td>\n",
       "      <td>No info</td>\n",
       "      <td>3897.0</td>\n",
       "      <td>24</td>\n",
       "      <td>3</td>\n",
       "      <td>2019</td>\n",
       "      <td>1</td>\n",
       "      <td>10</td>\n",
       "    </tr>\n",
       "    <tr>\n",
       "      <th>1</th>\n",
       "      <td>Air India</td>\n",
       "      <td>Kolkata</td>\n",
       "      <td>Banglore</td>\n",
       "      <td>CCU → IXR → BBI → BLR</td>\n",
       "      <td>05:50</td>\n",
       "      <td>7h 25m</td>\n",
       "      <td>2 stops</td>\n",
       "      <td>No info</td>\n",
       "      <td>7662.0</td>\n",
       "      <td>1</td>\n",
       "      <td>5</td>\n",
       "      <td>2019</td>\n",
       "      <td>13</td>\n",
       "      <td>15</td>\n",
       "    </tr>\n",
       "    <tr>\n",
       "      <th>2</th>\n",
       "      <td>Jet Airways</td>\n",
       "      <td>Delhi</td>\n",
       "      <td>Cochin</td>\n",
       "      <td>DEL → LKO → BOM → COK</td>\n",
       "      <td>09:25</td>\n",
       "      <td>19h</td>\n",
       "      <td>2 stops</td>\n",
       "      <td>No info</td>\n",
       "      <td>13882.0</td>\n",
       "      <td>9</td>\n",
       "      <td>6</td>\n",
       "      <td>2019</td>\n",
       "      <td>4</td>\n",
       "      <td>25</td>\n",
       "    </tr>\n",
       "    <tr>\n",
       "      <th>3</th>\n",
       "      <td>IndiGo</td>\n",
       "      <td>Kolkata</td>\n",
       "      <td>Banglore</td>\n",
       "      <td>CCU → NAG → BLR</td>\n",
       "      <td>18:05</td>\n",
       "      <td>5h 25m</td>\n",
       "      <td>1 stop</td>\n",
       "      <td>No info</td>\n",
       "      <td>6218.0</td>\n",
       "      <td>12</td>\n",
       "      <td>5</td>\n",
       "      <td>2019</td>\n",
       "      <td>23</td>\n",
       "      <td>30</td>\n",
       "    </tr>\n",
       "    <tr>\n",
       "      <th>4</th>\n",
       "      <td>IndiGo</td>\n",
       "      <td>Banglore</td>\n",
       "      <td>New Delhi</td>\n",
       "      <td>BLR → NAG → DEL</td>\n",
       "      <td>16:50</td>\n",
       "      <td>4h 45m</td>\n",
       "      <td>1 stop</td>\n",
       "      <td>No info</td>\n",
       "      <td>13302.0</td>\n",
       "      <td>1</td>\n",
       "      <td>3</td>\n",
       "      <td>2019</td>\n",
       "      <td>21</td>\n",
       "      <td>35</td>\n",
       "    </tr>\n",
       "    <tr>\n",
       "      <th>...</th>\n",
       "      <td>...</td>\n",
       "      <td>...</td>\n",
       "      <td>...</td>\n",
       "      <td>...</td>\n",
       "      <td>...</td>\n",
       "      <td>...</td>\n",
       "      <td>...</td>\n",
       "      <td>...</td>\n",
       "      <td>...</td>\n",
       "      <td>...</td>\n",
       "      <td>...</td>\n",
       "      <td>...</td>\n",
       "      <td>...</td>\n",
       "      <td>...</td>\n",
       "    </tr>\n",
       "    <tr>\n",
       "      <th>13349</th>\n",
       "      <td>Air India</td>\n",
       "      <td>Kolkata</td>\n",
       "      <td>Banglore</td>\n",
       "      <td>CCU → DEL → BLR</td>\n",
       "      <td>20:30</td>\n",
       "      <td>23h 55m</td>\n",
       "      <td>1 stop</td>\n",
       "      <td>No info</td>\n",
       "      <td>NaN</td>\n",
       "      <td>6</td>\n",
       "      <td>6</td>\n",
       "      <td>2019</td>\n",
       "      <td>20</td>\n",
       "      <td>25</td>\n",
       "    </tr>\n",
       "    <tr>\n",
       "      <th>13350</th>\n",
       "      <td>IndiGo</td>\n",
       "      <td>Kolkata</td>\n",
       "      <td>Banglore</td>\n",
       "      <td>CCU → BLR</td>\n",
       "      <td>14:20</td>\n",
       "      <td>2h 35m</td>\n",
       "      <td>non-stop</td>\n",
       "      <td>No info</td>\n",
       "      <td>NaN</td>\n",
       "      <td>27</td>\n",
       "      <td>3</td>\n",
       "      <td>2019</td>\n",
       "      <td>16</td>\n",
       "      <td>55</td>\n",
       "    </tr>\n",
       "    <tr>\n",
       "      <th>13351</th>\n",
       "      <td>Jet Airways</td>\n",
       "      <td>Delhi</td>\n",
       "      <td>Cochin</td>\n",
       "      <td>DEL → BOM → COK</td>\n",
       "      <td>21:50</td>\n",
       "      <td>6h 35m</td>\n",
       "      <td>1 stop</td>\n",
       "      <td>No info</td>\n",
       "      <td>NaN</td>\n",
       "      <td>6</td>\n",
       "      <td>3</td>\n",
       "      <td>2019</td>\n",
       "      <td>4</td>\n",
       "      <td>25</td>\n",
       "    </tr>\n",
       "    <tr>\n",
       "      <th>13352</th>\n",
       "      <td>Air India</td>\n",
       "      <td>Delhi</td>\n",
       "      <td>Cochin</td>\n",
       "      <td>DEL → BOM → COK</td>\n",
       "      <td>04:00</td>\n",
       "      <td>15h 15m</td>\n",
       "      <td>1 stop</td>\n",
       "      <td>No info</td>\n",
       "      <td>NaN</td>\n",
       "      <td>6</td>\n",
       "      <td>3</td>\n",
       "      <td>2019</td>\n",
       "      <td>19</td>\n",
       "      <td>15</td>\n",
       "    </tr>\n",
       "    <tr>\n",
       "      <th>13353</th>\n",
       "      <td>Multiple carriers</td>\n",
       "      <td>Delhi</td>\n",
       "      <td>Cochin</td>\n",
       "      <td>DEL → BOM → COK</td>\n",
       "      <td>04:55</td>\n",
       "      <td>14h 20m</td>\n",
       "      <td>1 stop</td>\n",
       "      <td>No info</td>\n",
       "      <td>NaN</td>\n",
       "      <td>15</td>\n",
       "      <td>6</td>\n",
       "      <td>2019</td>\n",
       "      <td>19</td>\n",
       "      <td>15</td>\n",
       "    </tr>\n",
       "  </tbody>\n",
       "</table>\n",
       "<p>13354 rows × 14 columns</p>\n",
       "</div>"
      ],
      "text/plain": [
       "                 Airline    Source Destination                  Route  \\\n",
       "0                 IndiGo  Banglore   New Delhi              BLR → DEL   \n",
       "1              Air India   Kolkata    Banglore  CCU → IXR → BBI → BLR   \n",
       "2            Jet Airways     Delhi      Cochin  DEL → LKO → BOM → COK   \n",
       "3                 IndiGo   Kolkata    Banglore        CCU → NAG → BLR   \n",
       "4                 IndiGo  Banglore   New Delhi        BLR → NAG → DEL   \n",
       "...                  ...       ...         ...                    ...   \n",
       "13349          Air India   Kolkata    Banglore        CCU → DEL → BLR   \n",
       "13350             IndiGo   Kolkata    Banglore              CCU → BLR   \n",
       "13351        Jet Airways     Delhi      Cochin        DEL → BOM → COK   \n",
       "13352          Air India     Delhi      Cochin        DEL → BOM → COK   \n",
       "13353  Multiple carriers     Delhi      Cochin        DEL → BOM → COK   \n",
       "\n",
       "      Dep_Time Duration Total_Stops Additional_Info    Price  Date  Month  \\\n",
       "0        22:20   2h 50m    non-stop         No info   3897.0    24      3   \n",
       "1        05:50   7h 25m     2 stops         No info   7662.0     1      5   \n",
       "2        09:25      19h     2 stops         No info  13882.0     9      6   \n",
       "3        18:05   5h 25m      1 stop         No info   6218.0    12      5   \n",
       "4        16:50   4h 45m      1 stop         No info  13302.0     1      3   \n",
       "...        ...      ...         ...             ...      ...   ...    ...   \n",
       "13349    20:30  23h 55m      1 stop         No info      NaN     6      6   \n",
       "13350    14:20   2h 35m    non-stop         No info      NaN    27      3   \n",
       "13351    21:50   6h 35m      1 stop         No info      NaN     6      3   \n",
       "13352    04:00  15h 15m      1 stop         No info      NaN     6      3   \n",
       "13353    04:55  14h 20m      1 stop         No info      NaN    15      6   \n",
       "\n",
       "       Year  Arrival_Hour  Arrival_Minute  \n",
       "0      2019             1              10  \n",
       "1      2019            13              15  \n",
       "2      2019             4              25  \n",
       "3      2019            23              30  \n",
       "4      2019            21              35  \n",
       "...     ...           ...             ...  \n",
       "13349  2019            20              25  \n",
       "13350  2019            16              55  \n",
       "13351  2019             4              25  \n",
       "13352  2019            19              15  \n",
       "13353  2019            19              15  \n",
       "\n",
       "[13354 rows x 14 columns]"
      ]
     },
     "execution_count": 16,
     "metadata": {},
     "output_type": "execute_result"
    }
   ],
   "source": [
    "final_df"
   ]
  },
  {
   "cell_type": "code",
   "execution_count": 17,
   "id": "e5ac6594-e63e-4ec2-a95c-6e60f5b3d381",
   "metadata": {},
   "outputs": [],
   "source": [
    "final_df['Dep_Hour'] = final_df['Dep_Time'].str.split(\":\").str[0]\n",
    "final_df['Dep_Minute'] = final_df['Dep_Time'].str.split(\":\").str[1]"
   ]
  },
  {
   "cell_type": "code",
   "execution_count": 18,
   "id": "4ed31b6a-f56d-4637-9b83-bfbb55be3a3a",
   "metadata": {},
   "outputs": [],
   "source": [
    "final_df['Dep_Hour'] = final_df['Dep_Hour'].astype(int)\n",
    "final_df['Dep_Minute'] = final_df['Dep_Minute'].astype(int)"
   ]
  },
  {
   "cell_type": "code",
   "execution_count": 19,
   "id": "37570bca-181a-43a9-8f51-a4d3f4b5ec59",
   "metadata": {},
   "outputs": [
    {
     "data": {
      "text/html": [
       "<div>\n",
       "<style scoped>\n",
       "    .dataframe tbody tr th:only-of-type {\n",
       "        vertical-align: middle;\n",
       "    }\n",
       "\n",
       "    .dataframe tbody tr th {\n",
       "        vertical-align: top;\n",
       "    }\n",
       "\n",
       "    .dataframe thead th {\n",
       "        text-align: right;\n",
       "    }\n",
       "</style>\n",
       "<table border=\"1\" class=\"dataframe\">\n",
       "  <thead>\n",
       "    <tr style=\"text-align: right;\">\n",
       "      <th></th>\n",
       "      <th>Airline</th>\n",
       "      <th>Source</th>\n",
       "      <th>Destination</th>\n",
       "      <th>Route</th>\n",
       "      <th>Dep_Time</th>\n",
       "      <th>Duration</th>\n",
       "      <th>Total_Stops</th>\n",
       "      <th>Additional_Info</th>\n",
       "      <th>Price</th>\n",
       "      <th>Date</th>\n",
       "      <th>Month</th>\n",
       "      <th>Year</th>\n",
       "      <th>Arrival_Hour</th>\n",
       "      <th>Arrival_Minute</th>\n",
       "      <th>Dep_Hour</th>\n",
       "      <th>Dep_Minute</th>\n",
       "    </tr>\n",
       "  </thead>\n",
       "  <tbody>\n",
       "    <tr>\n",
       "      <th>0</th>\n",
       "      <td>IndiGo</td>\n",
       "      <td>Banglore</td>\n",
       "      <td>New Delhi</td>\n",
       "      <td>BLR → DEL</td>\n",
       "      <td>22:20</td>\n",
       "      <td>2h 50m</td>\n",
       "      <td>non-stop</td>\n",
       "      <td>No info</td>\n",
       "      <td>3897.0</td>\n",
       "      <td>24</td>\n",
       "      <td>3</td>\n",
       "      <td>2019</td>\n",
       "      <td>1</td>\n",
       "      <td>10</td>\n",
       "      <td>22</td>\n",
       "      <td>20</td>\n",
       "    </tr>\n",
       "    <tr>\n",
       "      <th>1</th>\n",
       "      <td>Air India</td>\n",
       "      <td>Kolkata</td>\n",
       "      <td>Banglore</td>\n",
       "      <td>CCU → IXR → BBI → BLR</td>\n",
       "      <td>05:50</td>\n",
       "      <td>7h 25m</td>\n",
       "      <td>2 stops</td>\n",
       "      <td>No info</td>\n",
       "      <td>7662.0</td>\n",
       "      <td>1</td>\n",
       "      <td>5</td>\n",
       "      <td>2019</td>\n",
       "      <td>13</td>\n",
       "      <td>15</td>\n",
       "      <td>5</td>\n",
       "      <td>50</td>\n",
       "    </tr>\n",
       "    <tr>\n",
       "      <th>2</th>\n",
       "      <td>Jet Airways</td>\n",
       "      <td>Delhi</td>\n",
       "      <td>Cochin</td>\n",
       "      <td>DEL → LKO → BOM → COK</td>\n",
       "      <td>09:25</td>\n",
       "      <td>19h</td>\n",
       "      <td>2 stops</td>\n",
       "      <td>No info</td>\n",
       "      <td>13882.0</td>\n",
       "      <td>9</td>\n",
       "      <td>6</td>\n",
       "      <td>2019</td>\n",
       "      <td>4</td>\n",
       "      <td>25</td>\n",
       "      <td>9</td>\n",
       "      <td>25</td>\n",
       "    </tr>\n",
       "    <tr>\n",
       "      <th>3</th>\n",
       "      <td>IndiGo</td>\n",
       "      <td>Kolkata</td>\n",
       "      <td>Banglore</td>\n",
       "      <td>CCU → NAG → BLR</td>\n",
       "      <td>18:05</td>\n",
       "      <td>5h 25m</td>\n",
       "      <td>1 stop</td>\n",
       "      <td>No info</td>\n",
       "      <td>6218.0</td>\n",
       "      <td>12</td>\n",
       "      <td>5</td>\n",
       "      <td>2019</td>\n",
       "      <td>23</td>\n",
       "      <td>30</td>\n",
       "      <td>18</td>\n",
       "      <td>5</td>\n",
       "    </tr>\n",
       "    <tr>\n",
       "      <th>4</th>\n",
       "      <td>IndiGo</td>\n",
       "      <td>Banglore</td>\n",
       "      <td>New Delhi</td>\n",
       "      <td>BLR → NAG → DEL</td>\n",
       "      <td>16:50</td>\n",
       "      <td>4h 45m</td>\n",
       "      <td>1 stop</td>\n",
       "      <td>No info</td>\n",
       "      <td>13302.0</td>\n",
       "      <td>1</td>\n",
       "      <td>3</td>\n",
       "      <td>2019</td>\n",
       "      <td>21</td>\n",
       "      <td>35</td>\n",
       "      <td>16</td>\n",
       "      <td>50</td>\n",
       "    </tr>\n",
       "  </tbody>\n",
       "</table>\n",
       "</div>"
      ],
      "text/plain": [
       "       Airline    Source Destination                  Route Dep_Time Duration  \\\n",
       "0       IndiGo  Banglore   New Delhi              BLR → DEL    22:20   2h 50m   \n",
       "1    Air India   Kolkata    Banglore  CCU → IXR → BBI → BLR    05:50   7h 25m   \n",
       "2  Jet Airways     Delhi      Cochin  DEL → LKO → BOM → COK    09:25      19h   \n",
       "3       IndiGo   Kolkata    Banglore        CCU → NAG → BLR    18:05   5h 25m   \n",
       "4       IndiGo  Banglore   New Delhi        BLR → NAG → DEL    16:50   4h 45m   \n",
       "\n",
       "  Total_Stops Additional_Info    Price  Date  Month  Year  Arrival_Hour  \\\n",
       "0    non-stop         No info   3897.0    24      3  2019             1   \n",
       "1     2 stops         No info   7662.0     1      5  2019            13   \n",
       "2     2 stops         No info  13882.0     9      6  2019             4   \n",
       "3      1 stop         No info   6218.0    12      5  2019            23   \n",
       "4      1 stop         No info  13302.0     1      3  2019            21   \n",
       "\n",
       "   Arrival_Minute  Dep_Hour  Dep_Minute  \n",
       "0              10        22          20  \n",
       "1              15         5          50  \n",
       "2              25         9          25  \n",
       "3              30        18           5  \n",
       "4              35        16          50  "
      ]
     },
     "execution_count": 19,
     "metadata": {},
     "output_type": "execute_result"
    }
   ],
   "source": [
    "final_df.head()"
   ]
  },
  {
   "cell_type": "code",
   "execution_count": 20,
   "id": "dbdddf27-1a38-4312-a275-4f883d45bb2f",
   "metadata": {},
   "outputs": [],
   "source": [
    "final_df.drop('Dep_Time',axis=1,inplace=True)"
   ]
  },
  {
   "cell_type": "code",
   "execution_count": 21,
   "id": "7953b6a5-1e66-4a97-950e-337325e32751",
   "metadata": {},
   "outputs": [
    {
     "name": "stdout",
     "output_type": "stream",
     "text": [
      "<class 'pandas.core.frame.DataFrame'>\n",
      "RangeIndex: 13354 entries, 0 to 13353\n",
      "Data columns (total 15 columns):\n",
      " #   Column           Non-Null Count  Dtype  \n",
      "---  ------           --------------  -----  \n",
      " 0   Airline          13354 non-null  object \n",
      " 1   Source           13354 non-null  object \n",
      " 2   Destination      13354 non-null  object \n",
      " 3   Route            13353 non-null  object \n",
      " 4   Duration         13354 non-null  object \n",
      " 5   Total_Stops      13353 non-null  object \n",
      " 6   Additional_Info  13354 non-null  object \n",
      " 7   Price            10683 non-null  float64\n",
      " 8   Date             13354 non-null  int32  \n",
      " 9   Month            13354 non-null  int32  \n",
      " 10  Year             13354 non-null  int32  \n",
      " 11  Arrival_Hour     13354 non-null  int32  \n",
      " 12  Arrival_Minute   13354 non-null  int32  \n",
      " 13  Dep_Hour         13354 non-null  int32  \n",
      " 14  Dep_Minute       13354 non-null  int32  \n",
      "dtypes: float64(1), int32(7), object(7)\n",
      "memory usage: 1.2+ MB\n"
     ]
    }
   ],
   "source": [
    "final_df.info()"
   ]
  },
  {
   "cell_type": "code",
   "execution_count": 22,
   "id": "46afcbb3-f7f6-4bd5-9279-2bb827be14b3",
   "metadata": {},
   "outputs": [
    {
     "data": {
      "text/plain": [
       "array(['non-stop', '2 stops', '1 stop', '3 stops', nan, '4 stops'],\n",
       "      dtype=object)"
      ]
     },
     "execution_count": 22,
     "metadata": {},
     "output_type": "execute_result"
    }
   ],
   "source": [
    "final_df['Total_Stops'].unique()"
   ]
  },
  {
   "cell_type": "code",
   "execution_count": 23,
   "id": "e8978a4b-5d8e-405b-b1bb-901307ba0f5d",
   "metadata": {},
   "outputs": [
    {
     "data": {
      "text/html": [
       "<div>\n",
       "<style scoped>\n",
       "    .dataframe tbody tr th:only-of-type {\n",
       "        vertical-align: middle;\n",
       "    }\n",
       "\n",
       "    .dataframe tbody tr th {\n",
       "        vertical-align: top;\n",
       "    }\n",
       "\n",
       "    .dataframe thead th {\n",
       "        text-align: right;\n",
       "    }\n",
       "</style>\n",
       "<table border=\"1\" class=\"dataframe\">\n",
       "  <thead>\n",
       "    <tr style=\"text-align: right;\">\n",
       "      <th></th>\n",
       "      <th>Airline</th>\n",
       "      <th>Source</th>\n",
       "      <th>Destination</th>\n",
       "      <th>Route</th>\n",
       "      <th>Duration</th>\n",
       "      <th>Total_Stops</th>\n",
       "      <th>Additional_Info</th>\n",
       "      <th>Price</th>\n",
       "      <th>Date</th>\n",
       "      <th>Month</th>\n",
       "      <th>Year</th>\n",
       "      <th>Arrival_Hour</th>\n",
       "      <th>Arrival_Minute</th>\n",
       "      <th>Dep_Hour</th>\n",
       "      <th>Dep_Minute</th>\n",
       "    </tr>\n",
       "  </thead>\n",
       "  <tbody>\n",
       "    <tr>\n",
       "      <th>9039</th>\n",
       "      <td>Air India</td>\n",
       "      <td>Delhi</td>\n",
       "      <td>Cochin</td>\n",
       "      <td>NaN</td>\n",
       "      <td>23h 40m</td>\n",
       "      <td>NaN</td>\n",
       "      <td>No info</td>\n",
       "      <td>7480.0</td>\n",
       "      <td>6</td>\n",
       "      <td>5</td>\n",
       "      <td>2019</td>\n",
       "      <td>9</td>\n",
       "      <td>25</td>\n",
       "      <td>9</td>\n",
       "      <td>45</td>\n",
       "    </tr>\n",
       "  </tbody>\n",
       "</table>\n",
       "</div>"
      ],
      "text/plain": [
       "        Airline Source Destination Route Duration Total_Stops Additional_Info  \\\n",
       "9039  Air India  Delhi      Cochin   NaN  23h 40m         NaN         No info   \n",
       "\n",
       "       Price  Date  Month  Year  Arrival_Hour  Arrival_Minute  Dep_Hour  \\\n",
       "9039  7480.0     6      5  2019             9              25         9   \n",
       "\n",
       "      Dep_Minute  \n",
       "9039          45  "
      ]
     },
     "execution_count": 23,
     "metadata": {},
     "output_type": "execute_result"
    }
   ],
   "source": [
    "final_df[final_df['Total_Stops'].isnull()]"
   ]
  },
  {
   "cell_type": "code",
   "execution_count": 24,
   "id": "11a8613f-1a32-4ac2-9d14-b32c06278d52",
   "metadata": {},
   "outputs": [],
   "source": [
    "final_df['Total_Stops'] = final_df['Total_Stops'].map({'non-stop':0,'1 stop':1,'2 stops':2,'3 stops':3,'4 stops':4,'np.nan' : 1})"
   ]
  },
  {
   "cell_type": "code",
   "execution_count": 25,
   "id": "911f7810-db6e-46cb-ac07-3112cd38d98c",
   "metadata": {},
   "outputs": [],
   "source": [
    "final_df.drop('Route',axis=1,inplace=True)"
   ]
  },
  {
   "cell_type": "code",
   "execution_count": 26,
   "id": "8a4eeef8-a827-45d6-8cb2-7cac4e298162",
   "metadata": {},
   "outputs": [
    {
     "data": {
      "text/html": [
       "<div>\n",
       "<style scoped>\n",
       "    .dataframe tbody tr th:only-of-type {\n",
       "        vertical-align: middle;\n",
       "    }\n",
       "\n",
       "    .dataframe tbody tr th {\n",
       "        vertical-align: top;\n",
       "    }\n",
       "\n",
       "    .dataframe thead th {\n",
       "        text-align: right;\n",
       "    }\n",
       "</style>\n",
       "<table border=\"1\" class=\"dataframe\">\n",
       "  <thead>\n",
       "    <tr style=\"text-align: right;\">\n",
       "      <th></th>\n",
       "      <th>Airline</th>\n",
       "      <th>Source</th>\n",
       "      <th>Destination</th>\n",
       "      <th>Duration</th>\n",
       "      <th>Total_Stops</th>\n",
       "      <th>Additional_Info</th>\n",
       "      <th>Price</th>\n",
       "      <th>Date</th>\n",
       "      <th>Month</th>\n",
       "      <th>Year</th>\n",
       "      <th>Arrival_Hour</th>\n",
       "      <th>Arrival_Minute</th>\n",
       "      <th>Dep_Hour</th>\n",
       "      <th>Dep_Minute</th>\n",
       "    </tr>\n",
       "  </thead>\n",
       "  <tbody>\n",
       "    <tr>\n",
       "      <th>0</th>\n",
       "      <td>IndiGo</td>\n",
       "      <td>Banglore</td>\n",
       "      <td>New Delhi</td>\n",
       "      <td>2h 50m</td>\n",
       "      <td>0.0</td>\n",
       "      <td>No info</td>\n",
       "      <td>3897.0</td>\n",
       "      <td>24</td>\n",
       "      <td>3</td>\n",
       "      <td>2019</td>\n",
       "      <td>1</td>\n",
       "      <td>10</td>\n",
       "      <td>22</td>\n",
       "      <td>20</td>\n",
       "    </tr>\n",
       "    <tr>\n",
       "      <th>1</th>\n",
       "      <td>Air India</td>\n",
       "      <td>Kolkata</td>\n",
       "      <td>Banglore</td>\n",
       "      <td>7h 25m</td>\n",
       "      <td>2.0</td>\n",
       "      <td>No info</td>\n",
       "      <td>7662.0</td>\n",
       "      <td>1</td>\n",
       "      <td>5</td>\n",
       "      <td>2019</td>\n",
       "      <td>13</td>\n",
       "      <td>15</td>\n",
       "      <td>5</td>\n",
       "      <td>50</td>\n",
       "    </tr>\n",
       "    <tr>\n",
       "      <th>2</th>\n",
       "      <td>Jet Airways</td>\n",
       "      <td>Delhi</td>\n",
       "      <td>Cochin</td>\n",
       "      <td>19h</td>\n",
       "      <td>2.0</td>\n",
       "      <td>No info</td>\n",
       "      <td>13882.0</td>\n",
       "      <td>9</td>\n",
       "      <td>6</td>\n",
       "      <td>2019</td>\n",
       "      <td>4</td>\n",
       "      <td>25</td>\n",
       "      <td>9</td>\n",
       "      <td>25</td>\n",
       "    </tr>\n",
       "    <tr>\n",
       "      <th>3</th>\n",
       "      <td>IndiGo</td>\n",
       "      <td>Kolkata</td>\n",
       "      <td>Banglore</td>\n",
       "      <td>5h 25m</td>\n",
       "      <td>1.0</td>\n",
       "      <td>No info</td>\n",
       "      <td>6218.0</td>\n",
       "      <td>12</td>\n",
       "      <td>5</td>\n",
       "      <td>2019</td>\n",
       "      <td>23</td>\n",
       "      <td>30</td>\n",
       "      <td>18</td>\n",
       "      <td>5</td>\n",
       "    </tr>\n",
       "    <tr>\n",
       "      <th>4</th>\n",
       "      <td>IndiGo</td>\n",
       "      <td>Banglore</td>\n",
       "      <td>New Delhi</td>\n",
       "      <td>4h 45m</td>\n",
       "      <td>1.0</td>\n",
       "      <td>No info</td>\n",
       "      <td>13302.0</td>\n",
       "      <td>1</td>\n",
       "      <td>3</td>\n",
       "      <td>2019</td>\n",
       "      <td>21</td>\n",
       "      <td>35</td>\n",
       "      <td>16</td>\n",
       "      <td>50</td>\n",
       "    </tr>\n",
       "  </tbody>\n",
       "</table>\n",
       "</div>"
      ],
      "text/plain": [
       "       Airline    Source Destination Duration  Total_Stops Additional_Info  \\\n",
       "0       IndiGo  Banglore   New Delhi   2h 50m          0.0         No info   \n",
       "1    Air India   Kolkata    Banglore   7h 25m          2.0         No info   \n",
       "2  Jet Airways     Delhi      Cochin      19h          2.0         No info   \n",
       "3       IndiGo   Kolkata    Banglore   5h 25m          1.0         No info   \n",
       "4       IndiGo  Banglore   New Delhi   4h 45m          1.0         No info   \n",
       "\n",
       "     Price  Date  Month  Year  Arrival_Hour  Arrival_Minute  Dep_Hour  \\\n",
       "0   3897.0    24      3  2019             1              10        22   \n",
       "1   7662.0     1      5  2019            13              15         5   \n",
       "2  13882.0     9      6  2019             4              25         9   \n",
       "3   6218.0    12      5  2019            23              30        18   \n",
       "4  13302.0     1      3  2019            21              35        16   \n",
       "\n",
       "   Dep_Minute  \n",
       "0          20  \n",
       "1          50  \n",
       "2          25  \n",
       "3           5  \n",
       "4          50  "
      ]
     },
     "execution_count": 26,
     "metadata": {},
     "output_type": "execute_result"
    }
   ],
   "source": [
    "final_df.head()"
   ]
  },
  {
   "cell_type": "code",
   "execution_count": 27,
   "id": "763da7f9-037c-470c-a68c-257afca3033d",
   "metadata": {},
   "outputs": [
    {
     "data": {
      "text/plain": [
       "array(['No info', 'In-flight meal not included',\n",
       "       'No check-in baggage included', '1 Short layover', 'No Info',\n",
       "       '1 Long layover', 'Change airports', 'Business class',\n",
       "       'Red-eye flight', '2 Long layover'], dtype=object)"
      ]
     },
     "execution_count": 27,
     "metadata": {},
     "output_type": "execute_result"
    }
   ],
   "source": [
    "final_df['Additional_Info'].unique()"
   ]
  },
  {
   "cell_type": "code",
   "execution_count": 28,
   "id": "192fda8a-cc2d-46c1-89e0-5af4039bb8ce",
   "metadata": {},
   "outputs": [
    {
     "name": "stdout",
     "output_type": "stream",
     "text": [
      "<class 'pandas.core.frame.DataFrame'>\n",
      "RangeIndex: 13354 entries, 0 to 13353\n",
      "Data columns (total 14 columns):\n",
      " #   Column           Non-Null Count  Dtype  \n",
      "---  ------           --------------  -----  \n",
      " 0   Airline          13354 non-null  object \n",
      " 1   Source           13354 non-null  object \n",
      " 2   Destination      13354 non-null  object \n",
      " 3   Duration         13354 non-null  object \n",
      " 4   Total_Stops      13353 non-null  float64\n",
      " 5   Additional_Info  13354 non-null  object \n",
      " 6   Price            10683 non-null  float64\n",
      " 7   Date             13354 non-null  int32  \n",
      " 8   Month            13354 non-null  int32  \n",
      " 9   Year             13354 non-null  int32  \n",
      " 10  Arrival_Hour     13354 non-null  int32  \n",
      " 11  Arrival_Minute   13354 non-null  int32  \n",
      " 12  Dep_Hour         13354 non-null  int32  \n",
      " 13  Dep_Minute       13354 non-null  int32  \n",
      "dtypes: float64(2), int32(7), object(5)\n",
      "memory usage: 1.1+ MB\n"
     ]
    }
   ],
   "source": [
    "final_df.info()"
   ]
  },
  {
   "cell_type": "code",
   "execution_count": 29,
   "id": "7a844118-c778-48d3-b660-9fa730a3abb7",
   "metadata": {},
   "outputs": [
    {
     "data": {
      "text/plain": [
       "array(['IndiGo', 'Air India', 'Jet Airways', 'SpiceJet',\n",
       "       'Multiple carriers', 'GoAir', 'Vistara', 'Air Asia',\n",
       "       'Vistara Premium economy', 'Jet Airways Business',\n",
       "       'Multiple carriers Premium economy', 'Trujet'], dtype=object)"
      ]
     },
     "execution_count": 29,
     "metadata": {},
     "output_type": "execute_result"
    }
   ],
   "source": [
    "final_df['Airline'].unique()"
   ]
  },
  {
   "cell_type": "code",
   "execution_count": 30,
   "id": "51da13e8-8b58-4ac4-8d83-3198d324bc01",
   "metadata": {},
   "outputs": [
    {
     "data": {
      "text/plain": [
       "array(['2h 50m', '7h 25m', '19h', '5h 25m', '4h 45m', '2h 25m', '15h 30m',\n",
       "       '21h 5m', '25h 30m', '7h 50m', '13h 15m', '2h 35m', '2h 15m',\n",
       "       '12h 10m', '26h 35m', '4h 30m', '22h 35m', '23h', '20h 35m',\n",
       "       '5h 10m', '15h 20m', '2h 55m', '13h 20m', '15h 10m', '5h 45m',\n",
       "       '5h 55m', '13h 25m', '22h', '5h 30m', '10h 25m', '5h 15m',\n",
       "       '2h 30m', '6h 15m', '11h 55m', '11h 5m', '8h 30m', '22h 5m',\n",
       "       '2h 45m', '12h', '16h 5m', '19h 55m', '3h 15m', '25h 20m', '3h',\n",
       "       '16h 15m', '15h 5m', '6h 30m', '25h 5m', '12h 25m', '27h 20m',\n",
       "       '10h 15m', '10h 30m', '1h 30m', '1h 25m', '26h 30m', '7h 20m',\n",
       "       '13h 30m', '5h', '19h 5m', '14h 50m', '2h 40m', '22h 10m',\n",
       "       '9h 35m', '10h', '21h 20m', '18h 45m', '12h 20m', '18h', '9h 15m',\n",
       "       '17h 30m', '16h 35m', '12h 15m', '7h 30m', '24h', '8h 55m',\n",
       "       '7h 10m', '14h 30m', '30h 20m', '15h', '12h 45m', '10h 10m',\n",
       "       '15h 25m', '14h 5m', '20h 15m', '23h 10m', '18h 10m', '16h',\n",
       "       '2h 20m', '8h', '16h 55m', '3h 10m', '14h', '23h 50m', '21h 40m',\n",
       "       '21h 15m', '10h 50m', '8h 15m', '8h 35m', '11h 50m', '27h 35m',\n",
       "       '8h 25m', '20h 55m', '4h 50m', '8h 10m', '24h 25m', '23h 35m',\n",
       "       '25h 45m', '26h 10m', '28h 50m', '25h 15m', '9h 20m', '9h 10m',\n",
       "       '3h 5m', '11h 30m', '9h 30m', '17h 35m', '5h 5m', '25h 50m', '20h',\n",
       "       '13h', '18h 25m', '24h 10m', '4h 55m', '25h 35m', '6h 20m',\n",
       "       '18h 40m', '19h 25m', '29h 20m', '9h 5m', '10h 45m', '11h 40m',\n",
       "       '22h 55m', '37h 25m', '25h 40m', '13h 55m', '8h 40m', '23h 30m',\n",
       "       '12h 35m', '24h 15m', '1h 20m', '11h', '11h 15m', '14h 35m',\n",
       "       '12h 55m', '9h', '7h 40m', '11h 45m', '24h 55m', '17h 5m',\n",
       "       '29h 55m', '22h 15m', '14h 40m', '7h 15m', '20h 10m', '20h 45m',\n",
       "       '27h', '24h 30m', '20h 25m', '5h 35m', '14h 45m', '5h 40m',\n",
       "       '4h 5m', '15h 55m', '7h 45m', '28h 20m', '4h 20m', '3h 40m',\n",
       "       '8h 50m', '23h 45m', '24h 45m', '21h 35m', '8h 5m', '6h 25m',\n",
       "       '15h 50m', '26h 25m', '24h 50m', '26h', '23h 5m', '7h 55m',\n",
       "       '26h 20m', '23h 15m', '5h 20m', '4h', '9h 45m', '8h 20m',\n",
       "       '17h 25m', '7h 5m', '34h 5m', '6h 5m', '5h 50m', '7h', '4h 25m',\n",
       "       '13h 45m', '19h 15m', '22h 30m', '16h 25m', '13h 50m', '27h 5m',\n",
       "       '28h 10m', '4h 40m', '15h 40m', '4h 35m', '18h 30m', '38h 15m',\n",
       "       '6h 35m', '12h 30m', '11h 20m', '7h 35m', '29h 35m', '26h 55m',\n",
       "       '23h 40m', '12h 50m', '9h 50m', '21h 55m', '10h 55m', '21h 10m',\n",
       "       '20h 40m', '30h', '13h 10m', '8h 45m', '6h 10m', '17h 45m',\n",
       "       '21h 45m', '3h 55m', '17h 20m', '30h 30m', '21h 25m', '12h 40m',\n",
       "       '24h 35m', '19h 10m', '22h 40m', '14h 55m', '21h', '6h 45m',\n",
       "       '28h 40m', '9h 40m', '16h 40m', '16h 20m', '16h 45m', '1h 15m',\n",
       "       '6h 55m', '11h 25m', '14h 20m', '12h 5m', '24h 5m', '28h 15m',\n",
       "       '17h 50m', '20h 20m', '28h 5m', '10h 20m', '14h 15m', '35h 15m',\n",
       "       '35h 35m', '26h 40m', '28h', '14h 25m', '13h 5m', '37h 20m',\n",
       "       '36h 10m', '25h 55m', '35h 5m', '19h 45m', '27h 55m', '47h',\n",
       "       '10h 35m', '1h 35m', '16h 10m', '38h 20m', '6h', '16h 50m',\n",
       "       '14h 10m', '23h 20m', '17h 40m', '11h 35m', '18h 20m', '6h 40m',\n",
       "       '30h 55m', '24h 40m', '29h 50m', '28h 25m', '17h 15m', '22h 45m',\n",
       "       '25h 25m', '21h 50m', '33h 15m', '30h 15m', '3h 35m', '27h 40m',\n",
       "       '30h 25m', '18h 50m', '27h 45m', '15h 15m', '10h 40m', '26h 15m',\n",
       "       '36h 25m', '26h 50m', '15h 45m', '19h 40m', '22h 25m', '19h 35m',\n",
       "       '25h', '26h 45m', '38h', '4h 15m', '25h 10m', '18h 15m', '6h 50m',\n",
       "       '23h 55m', '17h 55m', '23h 25m', '17h 10m', '24h 20m', '28h 30m',\n",
       "       '27h 10m', '19h 20m', '15h 35m', '9h 25m', '21h 30m', '34h 25m',\n",
       "       '18h 35m', '29h 40m', '26h 5m', '29h 5m', '27h 25m', '16h 30m',\n",
       "       '11h 10m', '28h 55m', '29h 10m', '34h', '30h 40m', '30h 45m',\n",
       "       '32h 55m', '10h 5m', '35h 20m', '32h 5m', '31h 40m', '19h 50m',\n",
       "       '33h 45m', '30h 10m', '13h 40m', '19h 30m', '31h 30m', '34h 30m',\n",
       "       '27h 50m', '38h 35m', '42h 5m', '4h 10m', '39h 5m', '3h 50m', '5m',\n",
       "       '32h 30m', '31h 55m', '33h 20m', '27h 30m', '18h 55m', '9h 55m',\n",
       "       '41h 20m', '20h 5m', '31h 50m', '42h 45m', '3h 25m', '37h 10m',\n",
       "       '29h 30m', '32h 20m', '20h 50m', '40h 20m', '13h 35m', '47h 40m',\n",
       "       '20h 30m', '3h 45m', '31h 10m', '40h 40m', '22h 50m', '32h 25m'],\n",
       "      dtype=object)"
      ]
     },
     "execution_count": 30,
     "metadata": {},
     "output_type": "execute_result"
    }
   ],
   "source": [
    "final_df['Duration'].unique()"
   ]
  },
  {
   "cell_type": "code",
   "execution_count": 31,
   "id": "60b1bfaa-6815-4c01-aa8a-c9b7e67fb476",
   "metadata": {},
   "outputs": [],
   "source": [
    "final_df['Hour_Time']=final_df['Duration'].str.split(' ').str[0].str.split('h').str[0]"
   ]
  },
  {
   "cell_type": "code",
   "execution_count": 32,
   "id": "934c7a33-a723-49c4-a6e8-255293b5cf05",
   "metadata": {},
   "outputs": [
    {
     "data": {
      "text/html": [
       "<div>\n",
       "<style scoped>\n",
       "    .dataframe tbody tr th:only-of-type {\n",
       "        vertical-align: middle;\n",
       "    }\n",
       "\n",
       "    .dataframe tbody tr th {\n",
       "        vertical-align: top;\n",
       "    }\n",
       "\n",
       "    .dataframe thead th {\n",
       "        text-align: right;\n",
       "    }\n",
       "</style>\n",
       "<table border=\"1\" class=\"dataframe\">\n",
       "  <thead>\n",
       "    <tr style=\"text-align: right;\">\n",
       "      <th></th>\n",
       "      <th>Airline</th>\n",
       "      <th>Source</th>\n",
       "      <th>Destination</th>\n",
       "      <th>Duration</th>\n",
       "      <th>Total_Stops</th>\n",
       "      <th>Additional_Info</th>\n",
       "      <th>Price</th>\n",
       "      <th>Date</th>\n",
       "      <th>Month</th>\n",
       "      <th>Year</th>\n",
       "      <th>Arrival_Hour</th>\n",
       "      <th>Arrival_Minute</th>\n",
       "      <th>Dep_Hour</th>\n",
       "      <th>Dep_Minute</th>\n",
       "      <th>Hour_Time</th>\n",
       "    </tr>\n",
       "  </thead>\n",
       "  <tbody>\n",
       "    <tr>\n",
       "      <th>6474</th>\n",
       "      <td>Air India</td>\n",
       "      <td>Mumbai</td>\n",
       "      <td>Hyderabad</td>\n",
       "      <td>5m</td>\n",
       "      <td>2.0</td>\n",
       "      <td>No info</td>\n",
       "      <td>17327.0</td>\n",
       "      <td>6</td>\n",
       "      <td>3</td>\n",
       "      <td>2019</td>\n",
       "      <td>16</td>\n",
       "      <td>55</td>\n",
       "      <td>16</td>\n",
       "      <td>50</td>\n",
       "      <td>5m</td>\n",
       "    </tr>\n",
       "    <tr>\n",
       "      <th>13343</th>\n",
       "      <td>Air India</td>\n",
       "      <td>Mumbai</td>\n",
       "      <td>Hyderabad</td>\n",
       "      <td>5m</td>\n",
       "      <td>2.0</td>\n",
       "      <td>No info</td>\n",
       "      <td>NaN</td>\n",
       "      <td>12</td>\n",
       "      <td>3</td>\n",
       "      <td>2019</td>\n",
       "      <td>16</td>\n",
       "      <td>55</td>\n",
       "      <td>16</td>\n",
       "      <td>50</td>\n",
       "      <td>5m</td>\n",
       "    </tr>\n",
       "  </tbody>\n",
       "</table>\n",
       "</div>"
      ],
      "text/plain": [
       "         Airline  Source Destination Duration  Total_Stops Additional_Info  \\\n",
       "6474   Air India  Mumbai   Hyderabad       5m          2.0         No info   \n",
       "13343  Air India  Mumbai   Hyderabad       5m          2.0         No info   \n",
       "\n",
       "         Price  Date  Month  Year  Arrival_Hour  Arrival_Minute  Dep_Hour  \\\n",
       "6474   17327.0     6      3  2019            16              55        16   \n",
       "13343      NaN    12      3  2019            16              55        16   \n",
       "\n",
       "       Dep_Minute Hour_Time  \n",
       "6474           50        5m  \n",
       "13343          50        5m  "
      ]
     },
     "execution_count": 32,
     "metadata": {},
     "output_type": "execute_result"
    }
   ],
   "source": [
    "final_df[final_df['Duration'] == '5m']"
   ]
  },
  {
   "cell_type": "code",
   "execution_count": 33,
   "id": "afad878b-6214-4329-a3d7-a8c76d25ee9d",
   "metadata": {},
   "outputs": [],
   "source": [
    "final_df.drop([6474,13343,9039] , axis = 0,inplace=True)"
   ]
  },
  {
   "cell_type": "code",
   "execution_count": 34,
   "id": "a1493c8e-2315-46e3-b7d9-ba2cfe0c5eb5",
   "metadata": {},
   "outputs": [],
   "source": [
    "final_df['Hour_Time'] = final_df['Hour_Time'].astype(int)"
   ]
  },
  {
   "cell_type": "code",
   "execution_count": 35,
   "id": "fdd22ab3-b989-489c-8902-d9dfa060f834",
   "metadata": {},
   "outputs": [
    {
     "data": {
      "text/plain": [
       "array([ 2,  7, 19,  5,  4, 15, 21, 25, 13, 12, 26, 22, 23, 20, 10,  6, 11,\n",
       "        8, 16,  3, 27,  1, 14,  9, 18, 17, 24, 30, 28, 29, 37, 34, 38, 35,\n",
       "       36, 47, 33, 32, 31, 42, 39, 41, 40])"
      ]
     },
     "execution_count": 35,
     "metadata": {},
     "output_type": "execute_result"
    }
   ],
   "source": [
    "final_df['Hour_Time'].unique()"
   ]
  },
  {
   "cell_type": "code",
   "execution_count": 36,
   "id": "d6a9caa2-7bc8-4efa-90c8-cc8a2c6d4a3d",
   "metadata": {},
   "outputs": [],
   "source": [
    "final_df['Minute_Time']=final_df['Duration'].str.split(' ').str[1].str.split('m').str[0]"
   ]
  },
  {
   "cell_type": "code",
   "execution_count": 37,
   "id": "27f1fd62-c5b5-48e2-ad0e-75df97878180",
   "metadata": {},
   "outputs": [
    {
     "data": {
      "text/plain": [
       "pandas.core.series.Series"
      ]
     },
     "execution_count": 37,
     "metadata": {},
     "output_type": "execute_result"
    }
   ],
   "source": [
    "type(final_df['Minute_Time'])"
   ]
  },
  {
   "cell_type": "code",
   "execution_count": 38,
   "id": "43be008f-dfa5-4e1e-92b4-7aa178404c61",
   "metadata": {},
   "outputs": [
    {
     "name": "stderr",
     "output_type": "stream",
     "text": [
      "C:\\Users\\udaya\\AppData\\Local\\Temp\\ipykernel_12688\\1544742375.py:1: FutureWarning: A value is trying to be set on a copy of a DataFrame or Series through chained assignment using an inplace method.\n",
      "The behavior will change in pandas 3.0. This inplace method will never work because the intermediate object on which we are setting values always behaves as a copy.\n",
      "\n",
      "For example, when doing 'df[col].method(value, inplace=True)', try using 'df.method({col: value}, inplace=True)' or df[col] = df[col].method(value) instead, to perform the operation inplace on the original object.\n",
      "\n",
      "\n",
      "  final_df['Minute_Time'].replace(to_replace = np.nan ,value=0, inplace=True)\n"
     ]
    }
   ],
   "source": [
    "final_df['Minute_Time'].replace(to_replace = np.nan ,value=0, inplace=True)"
   ]
  },
  {
   "cell_type": "code",
   "execution_count": 39,
   "id": "d3b18059-85b8-4874-af3a-bccd4e2535cc",
   "metadata": {},
   "outputs": [],
   "source": [
    "final_df['Minute_Time'] = final_df['Minute_Time'].astype(int)"
   ]
  },
  {
   "cell_type": "code",
   "execution_count": 40,
   "id": "88e364e0-84d5-4a38-ada8-e5b92a10fc25",
   "metadata": {},
   "outputs": [
    {
     "data": {
      "text/plain": [
       "dtype('int32')"
      ]
     },
     "execution_count": 40,
     "metadata": {},
     "output_type": "execute_result"
    }
   ],
   "source": [
    "final_df['Minute_Time'].dtype"
   ]
  },
  {
   "cell_type": "code",
   "execution_count": 41,
   "id": "07814f6d-4d18-49f3-aecb-00e430156f43",
   "metadata": {},
   "outputs": [
    {
     "data": {
      "text/html": [
       "<div>\n",
       "<style scoped>\n",
       "    .dataframe tbody tr th:only-of-type {\n",
       "        vertical-align: middle;\n",
       "    }\n",
       "\n",
       "    .dataframe tbody tr th {\n",
       "        vertical-align: top;\n",
       "    }\n",
       "\n",
       "    .dataframe thead th {\n",
       "        text-align: right;\n",
       "    }\n",
       "</style>\n",
       "<table border=\"1\" class=\"dataframe\">\n",
       "  <thead>\n",
       "    <tr style=\"text-align: right;\">\n",
       "      <th></th>\n",
       "      <th>Airline</th>\n",
       "      <th>Source</th>\n",
       "      <th>Destination</th>\n",
       "      <th>Duration</th>\n",
       "      <th>Total_Stops</th>\n",
       "      <th>Additional_Info</th>\n",
       "      <th>Price</th>\n",
       "      <th>Date</th>\n",
       "      <th>Month</th>\n",
       "      <th>Year</th>\n",
       "      <th>Arrival_Hour</th>\n",
       "      <th>Arrival_Minute</th>\n",
       "      <th>Dep_Hour</th>\n",
       "      <th>Dep_Minute</th>\n",
       "      <th>Hour_Time</th>\n",
       "      <th>Minute_Time</th>\n",
       "    </tr>\n",
       "  </thead>\n",
       "  <tbody>\n",
       "    <tr>\n",
       "      <th>0</th>\n",
       "      <td>IndiGo</td>\n",
       "      <td>Banglore</td>\n",
       "      <td>New Delhi</td>\n",
       "      <td>2h 50m</td>\n",
       "      <td>0.0</td>\n",
       "      <td>No info</td>\n",
       "      <td>3897.0</td>\n",
       "      <td>24</td>\n",
       "      <td>3</td>\n",
       "      <td>2019</td>\n",
       "      <td>1</td>\n",
       "      <td>10</td>\n",
       "      <td>22</td>\n",
       "      <td>20</td>\n",
       "      <td>2</td>\n",
       "      <td>50</td>\n",
       "    </tr>\n",
       "    <tr>\n",
       "      <th>1</th>\n",
       "      <td>Air India</td>\n",
       "      <td>Kolkata</td>\n",
       "      <td>Banglore</td>\n",
       "      <td>7h 25m</td>\n",
       "      <td>2.0</td>\n",
       "      <td>No info</td>\n",
       "      <td>7662.0</td>\n",
       "      <td>1</td>\n",
       "      <td>5</td>\n",
       "      <td>2019</td>\n",
       "      <td>13</td>\n",
       "      <td>15</td>\n",
       "      <td>5</td>\n",
       "      <td>50</td>\n",
       "      <td>7</td>\n",
       "      <td>25</td>\n",
       "    </tr>\n",
       "    <tr>\n",
       "      <th>2</th>\n",
       "      <td>Jet Airways</td>\n",
       "      <td>Delhi</td>\n",
       "      <td>Cochin</td>\n",
       "      <td>19h</td>\n",
       "      <td>2.0</td>\n",
       "      <td>No info</td>\n",
       "      <td>13882.0</td>\n",
       "      <td>9</td>\n",
       "      <td>6</td>\n",
       "      <td>2019</td>\n",
       "      <td>4</td>\n",
       "      <td>25</td>\n",
       "      <td>9</td>\n",
       "      <td>25</td>\n",
       "      <td>19</td>\n",
       "      <td>0</td>\n",
       "    </tr>\n",
       "    <tr>\n",
       "      <th>3</th>\n",
       "      <td>IndiGo</td>\n",
       "      <td>Kolkata</td>\n",
       "      <td>Banglore</td>\n",
       "      <td>5h 25m</td>\n",
       "      <td>1.0</td>\n",
       "      <td>No info</td>\n",
       "      <td>6218.0</td>\n",
       "      <td>12</td>\n",
       "      <td>5</td>\n",
       "      <td>2019</td>\n",
       "      <td>23</td>\n",
       "      <td>30</td>\n",
       "      <td>18</td>\n",
       "      <td>5</td>\n",
       "      <td>5</td>\n",
       "      <td>25</td>\n",
       "    </tr>\n",
       "    <tr>\n",
       "      <th>4</th>\n",
       "      <td>IndiGo</td>\n",
       "      <td>Banglore</td>\n",
       "      <td>New Delhi</td>\n",
       "      <td>4h 45m</td>\n",
       "      <td>1.0</td>\n",
       "      <td>No info</td>\n",
       "      <td>13302.0</td>\n",
       "      <td>1</td>\n",
       "      <td>3</td>\n",
       "      <td>2019</td>\n",
       "      <td>21</td>\n",
       "      <td>35</td>\n",
       "      <td>16</td>\n",
       "      <td>50</td>\n",
       "      <td>4</td>\n",
       "      <td>45</td>\n",
       "    </tr>\n",
       "    <tr>\n",
       "      <th>...</th>\n",
       "      <td>...</td>\n",
       "      <td>...</td>\n",
       "      <td>...</td>\n",
       "      <td>...</td>\n",
       "      <td>...</td>\n",
       "      <td>...</td>\n",
       "      <td>...</td>\n",
       "      <td>...</td>\n",
       "      <td>...</td>\n",
       "      <td>...</td>\n",
       "      <td>...</td>\n",
       "      <td>...</td>\n",
       "      <td>...</td>\n",
       "      <td>...</td>\n",
       "      <td>...</td>\n",
       "      <td>...</td>\n",
       "    </tr>\n",
       "    <tr>\n",
       "      <th>13349</th>\n",
       "      <td>Air India</td>\n",
       "      <td>Kolkata</td>\n",
       "      <td>Banglore</td>\n",
       "      <td>23h 55m</td>\n",
       "      <td>1.0</td>\n",
       "      <td>No info</td>\n",
       "      <td>NaN</td>\n",
       "      <td>6</td>\n",
       "      <td>6</td>\n",
       "      <td>2019</td>\n",
       "      <td>20</td>\n",
       "      <td>25</td>\n",
       "      <td>20</td>\n",
       "      <td>30</td>\n",
       "      <td>23</td>\n",
       "      <td>55</td>\n",
       "    </tr>\n",
       "    <tr>\n",
       "      <th>13350</th>\n",
       "      <td>IndiGo</td>\n",
       "      <td>Kolkata</td>\n",
       "      <td>Banglore</td>\n",
       "      <td>2h 35m</td>\n",
       "      <td>0.0</td>\n",
       "      <td>No info</td>\n",
       "      <td>NaN</td>\n",
       "      <td>27</td>\n",
       "      <td>3</td>\n",
       "      <td>2019</td>\n",
       "      <td>16</td>\n",
       "      <td>55</td>\n",
       "      <td>14</td>\n",
       "      <td>20</td>\n",
       "      <td>2</td>\n",
       "      <td>35</td>\n",
       "    </tr>\n",
       "    <tr>\n",
       "      <th>13351</th>\n",
       "      <td>Jet Airways</td>\n",
       "      <td>Delhi</td>\n",
       "      <td>Cochin</td>\n",
       "      <td>6h 35m</td>\n",
       "      <td>1.0</td>\n",
       "      <td>No info</td>\n",
       "      <td>NaN</td>\n",
       "      <td>6</td>\n",
       "      <td>3</td>\n",
       "      <td>2019</td>\n",
       "      <td>4</td>\n",
       "      <td>25</td>\n",
       "      <td>21</td>\n",
       "      <td>50</td>\n",
       "      <td>6</td>\n",
       "      <td>35</td>\n",
       "    </tr>\n",
       "    <tr>\n",
       "      <th>13352</th>\n",
       "      <td>Air India</td>\n",
       "      <td>Delhi</td>\n",
       "      <td>Cochin</td>\n",
       "      <td>15h 15m</td>\n",
       "      <td>1.0</td>\n",
       "      <td>No info</td>\n",
       "      <td>NaN</td>\n",
       "      <td>6</td>\n",
       "      <td>3</td>\n",
       "      <td>2019</td>\n",
       "      <td>19</td>\n",
       "      <td>15</td>\n",
       "      <td>4</td>\n",
       "      <td>0</td>\n",
       "      <td>15</td>\n",
       "      <td>15</td>\n",
       "    </tr>\n",
       "    <tr>\n",
       "      <th>13353</th>\n",
       "      <td>Multiple carriers</td>\n",
       "      <td>Delhi</td>\n",
       "      <td>Cochin</td>\n",
       "      <td>14h 20m</td>\n",
       "      <td>1.0</td>\n",
       "      <td>No info</td>\n",
       "      <td>NaN</td>\n",
       "      <td>15</td>\n",
       "      <td>6</td>\n",
       "      <td>2019</td>\n",
       "      <td>19</td>\n",
       "      <td>15</td>\n",
       "      <td>4</td>\n",
       "      <td>55</td>\n",
       "      <td>14</td>\n",
       "      <td>20</td>\n",
       "    </tr>\n",
       "  </tbody>\n",
       "</table>\n",
       "<p>13351 rows × 16 columns</p>\n",
       "</div>"
      ],
      "text/plain": [
       "                 Airline    Source Destination Duration  Total_Stops  \\\n",
       "0                 IndiGo  Banglore   New Delhi   2h 50m          0.0   \n",
       "1              Air India   Kolkata    Banglore   7h 25m          2.0   \n",
       "2            Jet Airways     Delhi      Cochin      19h          2.0   \n",
       "3                 IndiGo   Kolkata    Banglore   5h 25m          1.0   \n",
       "4                 IndiGo  Banglore   New Delhi   4h 45m          1.0   \n",
       "...                  ...       ...         ...      ...          ...   \n",
       "13349          Air India   Kolkata    Banglore  23h 55m          1.0   \n",
       "13350             IndiGo   Kolkata    Banglore   2h 35m          0.0   \n",
       "13351        Jet Airways     Delhi      Cochin   6h 35m          1.0   \n",
       "13352          Air India     Delhi      Cochin  15h 15m          1.0   \n",
       "13353  Multiple carriers     Delhi      Cochin  14h 20m          1.0   \n",
       "\n",
       "      Additional_Info    Price  Date  Month  Year  Arrival_Hour  \\\n",
       "0             No info   3897.0    24      3  2019             1   \n",
       "1             No info   7662.0     1      5  2019            13   \n",
       "2             No info  13882.0     9      6  2019             4   \n",
       "3             No info   6218.0    12      5  2019            23   \n",
       "4             No info  13302.0     1      3  2019            21   \n",
       "...               ...      ...   ...    ...   ...           ...   \n",
       "13349         No info      NaN     6      6  2019            20   \n",
       "13350         No info      NaN    27      3  2019            16   \n",
       "13351         No info      NaN     6      3  2019             4   \n",
       "13352         No info      NaN     6      3  2019            19   \n",
       "13353         No info      NaN    15      6  2019            19   \n",
       "\n",
       "       Arrival_Minute  Dep_Hour  Dep_Minute  Hour_Time  Minute_Time  \n",
       "0                  10        22          20          2           50  \n",
       "1                  15         5          50          7           25  \n",
       "2                  25         9          25         19            0  \n",
       "3                  30        18           5          5           25  \n",
       "4                  35        16          50          4           45  \n",
       "...               ...       ...         ...        ...          ...  \n",
       "13349              25        20          30         23           55  \n",
       "13350              55        14          20          2           35  \n",
       "13351              25        21          50          6           35  \n",
       "13352              15         4           0         15           15  \n",
       "13353              15         4          55         14           20  \n",
       "\n",
       "[13351 rows x 16 columns]"
      ]
     },
     "execution_count": 41,
     "metadata": {},
     "output_type": "execute_result"
    }
   ],
   "source": [
    "final_df"
   ]
  },
  {
   "cell_type": "code",
   "execution_count": 42,
   "id": "35f18e89-9eed-4f4c-a474-c469ebe5c8a5",
   "metadata": {},
   "outputs": [],
   "source": [
    "final_df['Duration']=final_df['Hour_Time'] * 60 + final_df['Minute_Time']"
   ]
  },
  {
   "cell_type": "code",
   "execution_count": 43,
   "id": "9ff8e519-51ff-492e-b872-5a9603bb08a5",
   "metadata": {},
   "outputs": [
    {
     "data": {
      "text/html": [
       "<div>\n",
       "<style scoped>\n",
       "    .dataframe tbody tr th:only-of-type {\n",
       "        vertical-align: middle;\n",
       "    }\n",
       "\n",
       "    .dataframe tbody tr th {\n",
       "        vertical-align: top;\n",
       "    }\n",
       "\n",
       "    .dataframe thead th {\n",
       "        text-align: right;\n",
       "    }\n",
       "</style>\n",
       "<table border=\"1\" class=\"dataframe\">\n",
       "  <thead>\n",
       "    <tr style=\"text-align: right;\">\n",
       "      <th></th>\n",
       "      <th>Airline</th>\n",
       "      <th>Source</th>\n",
       "      <th>Destination</th>\n",
       "      <th>Duration</th>\n",
       "      <th>Total_Stops</th>\n",
       "      <th>Additional_Info</th>\n",
       "      <th>Price</th>\n",
       "      <th>Date</th>\n",
       "      <th>Month</th>\n",
       "      <th>Year</th>\n",
       "      <th>Arrival_Hour</th>\n",
       "      <th>Arrival_Minute</th>\n",
       "      <th>Dep_Hour</th>\n",
       "      <th>Dep_Minute</th>\n",
       "      <th>Hour_Time</th>\n",
       "      <th>Minute_Time</th>\n",
       "    </tr>\n",
       "  </thead>\n",
       "  <tbody>\n",
       "    <tr>\n",
       "      <th>0</th>\n",
       "      <td>IndiGo</td>\n",
       "      <td>Banglore</td>\n",
       "      <td>New Delhi</td>\n",
       "      <td>170</td>\n",
       "      <td>0.0</td>\n",
       "      <td>No info</td>\n",
       "      <td>3897.0</td>\n",
       "      <td>24</td>\n",
       "      <td>3</td>\n",
       "      <td>2019</td>\n",
       "      <td>1</td>\n",
       "      <td>10</td>\n",
       "      <td>22</td>\n",
       "      <td>20</td>\n",
       "      <td>2</td>\n",
       "      <td>50</td>\n",
       "    </tr>\n",
       "    <tr>\n",
       "      <th>1</th>\n",
       "      <td>Air India</td>\n",
       "      <td>Kolkata</td>\n",
       "      <td>Banglore</td>\n",
       "      <td>445</td>\n",
       "      <td>2.0</td>\n",
       "      <td>No info</td>\n",
       "      <td>7662.0</td>\n",
       "      <td>1</td>\n",
       "      <td>5</td>\n",
       "      <td>2019</td>\n",
       "      <td>13</td>\n",
       "      <td>15</td>\n",
       "      <td>5</td>\n",
       "      <td>50</td>\n",
       "      <td>7</td>\n",
       "      <td>25</td>\n",
       "    </tr>\n",
       "    <tr>\n",
       "      <th>2</th>\n",
       "      <td>Jet Airways</td>\n",
       "      <td>Delhi</td>\n",
       "      <td>Cochin</td>\n",
       "      <td>1140</td>\n",
       "      <td>2.0</td>\n",
       "      <td>No info</td>\n",
       "      <td>13882.0</td>\n",
       "      <td>9</td>\n",
       "      <td>6</td>\n",
       "      <td>2019</td>\n",
       "      <td>4</td>\n",
       "      <td>25</td>\n",
       "      <td>9</td>\n",
       "      <td>25</td>\n",
       "      <td>19</td>\n",
       "      <td>0</td>\n",
       "    </tr>\n",
       "    <tr>\n",
       "      <th>3</th>\n",
       "      <td>IndiGo</td>\n",
       "      <td>Kolkata</td>\n",
       "      <td>Banglore</td>\n",
       "      <td>325</td>\n",
       "      <td>1.0</td>\n",
       "      <td>No info</td>\n",
       "      <td>6218.0</td>\n",
       "      <td>12</td>\n",
       "      <td>5</td>\n",
       "      <td>2019</td>\n",
       "      <td>23</td>\n",
       "      <td>30</td>\n",
       "      <td>18</td>\n",
       "      <td>5</td>\n",
       "      <td>5</td>\n",
       "      <td>25</td>\n",
       "    </tr>\n",
       "    <tr>\n",
       "      <th>4</th>\n",
       "      <td>IndiGo</td>\n",
       "      <td>Banglore</td>\n",
       "      <td>New Delhi</td>\n",
       "      <td>285</td>\n",
       "      <td>1.0</td>\n",
       "      <td>No info</td>\n",
       "      <td>13302.0</td>\n",
       "      <td>1</td>\n",
       "      <td>3</td>\n",
       "      <td>2019</td>\n",
       "      <td>21</td>\n",
       "      <td>35</td>\n",
       "      <td>16</td>\n",
       "      <td>50</td>\n",
       "      <td>4</td>\n",
       "      <td>45</td>\n",
       "    </tr>\n",
       "  </tbody>\n",
       "</table>\n",
       "</div>"
      ],
      "text/plain": [
       "       Airline    Source Destination  Duration  Total_Stops Additional_Info  \\\n",
       "0       IndiGo  Banglore   New Delhi       170          0.0         No info   \n",
       "1    Air India   Kolkata    Banglore       445          2.0         No info   \n",
       "2  Jet Airways     Delhi      Cochin      1140          2.0         No info   \n",
       "3       IndiGo   Kolkata    Banglore       325          1.0         No info   \n",
       "4       IndiGo  Banglore   New Delhi       285          1.0         No info   \n",
       "\n",
       "     Price  Date  Month  Year  Arrival_Hour  Arrival_Minute  Dep_Hour  \\\n",
       "0   3897.0    24      3  2019             1              10        22   \n",
       "1   7662.0     1      5  2019            13              15         5   \n",
       "2  13882.0     9      6  2019             4              25         9   \n",
       "3   6218.0    12      5  2019            23              30        18   \n",
       "4  13302.0     1      3  2019            21              35        16   \n",
       "\n",
       "   Dep_Minute  Hour_Time  Minute_Time  \n",
       "0          20          2           50  \n",
       "1          50          7           25  \n",
       "2          25         19            0  \n",
       "3           5          5           25  \n",
       "4          50          4           45  "
      ]
     },
     "execution_count": 43,
     "metadata": {},
     "output_type": "execute_result"
    }
   ],
   "source": [
    "final_df.head()"
   ]
  },
  {
   "cell_type": "code",
   "execution_count": 44,
   "id": "db697539-4228-4ff5-95b6-b4fc48396c08",
   "metadata": {},
   "outputs": [],
   "source": [
    "final_df.drop(['Hour_Time','Minute_Time'],axis=1,inplace=True)"
   ]
  },
  {
   "cell_type": "code",
   "execution_count": 45,
   "id": "57b5b3fc-5442-40cc-ab95-99dd22fbc713",
   "metadata": {},
   "outputs": [
    {
     "data": {
      "text/html": [
       "<div>\n",
       "<style scoped>\n",
       "    .dataframe tbody tr th:only-of-type {\n",
       "        vertical-align: middle;\n",
       "    }\n",
       "\n",
       "    .dataframe tbody tr th {\n",
       "        vertical-align: top;\n",
       "    }\n",
       "\n",
       "    .dataframe thead th {\n",
       "        text-align: right;\n",
       "    }\n",
       "</style>\n",
       "<table border=\"1\" class=\"dataframe\">\n",
       "  <thead>\n",
       "    <tr style=\"text-align: right;\">\n",
       "      <th></th>\n",
       "      <th>Airline</th>\n",
       "      <th>Source</th>\n",
       "      <th>Destination</th>\n",
       "      <th>Duration</th>\n",
       "      <th>Total_Stops</th>\n",
       "      <th>Additional_Info</th>\n",
       "      <th>Price</th>\n",
       "      <th>Date</th>\n",
       "      <th>Month</th>\n",
       "      <th>Year</th>\n",
       "      <th>Arrival_Hour</th>\n",
       "      <th>Arrival_Minute</th>\n",
       "      <th>Dep_Hour</th>\n",
       "      <th>Dep_Minute</th>\n",
       "    </tr>\n",
       "  </thead>\n",
       "  <tbody>\n",
       "    <tr>\n",
       "      <th>0</th>\n",
       "      <td>IndiGo</td>\n",
       "      <td>Banglore</td>\n",
       "      <td>New Delhi</td>\n",
       "      <td>170</td>\n",
       "      <td>0.0</td>\n",
       "      <td>No info</td>\n",
       "      <td>3897.0</td>\n",
       "      <td>24</td>\n",
       "      <td>3</td>\n",
       "      <td>2019</td>\n",
       "      <td>1</td>\n",
       "      <td>10</td>\n",
       "      <td>22</td>\n",
       "      <td>20</td>\n",
       "    </tr>\n",
       "    <tr>\n",
       "      <th>1</th>\n",
       "      <td>Air India</td>\n",
       "      <td>Kolkata</td>\n",
       "      <td>Banglore</td>\n",
       "      <td>445</td>\n",
       "      <td>2.0</td>\n",
       "      <td>No info</td>\n",
       "      <td>7662.0</td>\n",
       "      <td>1</td>\n",
       "      <td>5</td>\n",
       "      <td>2019</td>\n",
       "      <td>13</td>\n",
       "      <td>15</td>\n",
       "      <td>5</td>\n",
       "      <td>50</td>\n",
       "    </tr>\n",
       "    <tr>\n",
       "      <th>2</th>\n",
       "      <td>Jet Airways</td>\n",
       "      <td>Delhi</td>\n",
       "      <td>Cochin</td>\n",
       "      <td>1140</td>\n",
       "      <td>2.0</td>\n",
       "      <td>No info</td>\n",
       "      <td>13882.0</td>\n",
       "      <td>9</td>\n",
       "      <td>6</td>\n",
       "      <td>2019</td>\n",
       "      <td>4</td>\n",
       "      <td>25</td>\n",
       "      <td>9</td>\n",
       "      <td>25</td>\n",
       "    </tr>\n",
       "    <tr>\n",
       "      <th>3</th>\n",
       "      <td>IndiGo</td>\n",
       "      <td>Kolkata</td>\n",
       "      <td>Banglore</td>\n",
       "      <td>325</td>\n",
       "      <td>1.0</td>\n",
       "      <td>No info</td>\n",
       "      <td>6218.0</td>\n",
       "      <td>12</td>\n",
       "      <td>5</td>\n",
       "      <td>2019</td>\n",
       "      <td>23</td>\n",
       "      <td>30</td>\n",
       "      <td>18</td>\n",
       "      <td>5</td>\n",
       "    </tr>\n",
       "    <tr>\n",
       "      <th>4</th>\n",
       "      <td>IndiGo</td>\n",
       "      <td>Banglore</td>\n",
       "      <td>New Delhi</td>\n",
       "      <td>285</td>\n",
       "      <td>1.0</td>\n",
       "      <td>No info</td>\n",
       "      <td>13302.0</td>\n",
       "      <td>1</td>\n",
       "      <td>3</td>\n",
       "      <td>2019</td>\n",
       "      <td>21</td>\n",
       "      <td>35</td>\n",
       "      <td>16</td>\n",
       "      <td>50</td>\n",
       "    </tr>\n",
       "  </tbody>\n",
       "</table>\n",
       "</div>"
      ],
      "text/plain": [
       "       Airline    Source Destination  Duration  Total_Stops Additional_Info  \\\n",
       "0       IndiGo  Banglore   New Delhi       170          0.0         No info   \n",
       "1    Air India   Kolkata    Banglore       445          2.0         No info   \n",
       "2  Jet Airways     Delhi      Cochin      1140          2.0         No info   \n",
       "3       IndiGo   Kolkata    Banglore       325          1.0         No info   \n",
       "4       IndiGo  Banglore   New Delhi       285          1.0         No info   \n",
       "\n",
       "     Price  Date  Month  Year  Arrival_Hour  Arrival_Minute  Dep_Hour  \\\n",
       "0   3897.0    24      3  2019             1              10        22   \n",
       "1   7662.0     1      5  2019            13              15         5   \n",
       "2  13882.0     9      6  2019             4              25         9   \n",
       "3   6218.0    12      5  2019            23              30        18   \n",
       "4  13302.0     1      3  2019            21              35        16   \n",
       "\n",
       "   Dep_Minute  \n",
       "0          20  \n",
       "1          50  \n",
       "2          25  \n",
       "3           5  \n",
       "4          50  "
      ]
     },
     "execution_count": 45,
     "metadata": {},
     "output_type": "execute_result"
    }
   ],
   "source": [
    "final_df.head()"
   ]
  },
  {
   "cell_type": "code",
   "execution_count": 46,
   "id": "0eb90cd7-4c4f-4fe8-980f-79fd101d2045",
   "metadata": {},
   "outputs": [
    {
     "data": {
      "text/plain": [
       "pandas.core.series.Series"
      ]
     },
     "execution_count": 46,
     "metadata": {},
     "output_type": "execute_result"
    }
   ],
   "source": [
    "type(final_df['Airline'])"
   ]
  },
  {
   "cell_type": "code",
   "execution_count": 47,
   "id": "c814744d-9e50-4bcc-9c69-4f35fc9f1279",
   "metadata": {},
   "outputs": [
    {
     "name": "stdout",
     "output_type": "stream",
     "text": [
      "<class 'pandas.core.frame.DataFrame'>\n",
      "Index: 13351 entries, 0 to 13353\n",
      "Data columns (total 14 columns):\n",
      " #   Column           Non-Null Count  Dtype  \n",
      "---  ------           --------------  -----  \n",
      " 0   Airline          13351 non-null  object \n",
      " 1   Source           13351 non-null  object \n",
      " 2   Destination      13351 non-null  object \n",
      " 3   Duration         13351 non-null  int32  \n",
      " 4   Total_Stops      13351 non-null  float64\n",
      " 5   Additional_Info  13351 non-null  object \n",
      " 6   Price            10681 non-null  float64\n",
      " 7   Date             13351 non-null  int32  \n",
      " 8   Month            13351 non-null  int32  \n",
      " 9   Year             13351 non-null  int32  \n",
      " 10  Arrival_Hour     13351 non-null  int32  \n",
      " 11  Arrival_Minute   13351 non-null  int32  \n",
      " 12  Dep_Hour         13351 non-null  int32  \n",
      " 13  Dep_Minute       13351 non-null  int32  \n",
      "dtypes: float64(2), int32(8), object(4)\n",
      "memory usage: 1.1+ MB\n"
     ]
    }
   ],
   "source": [
    "final_df.info()"
   ]
  },
  {
   "cell_type": "code",
   "execution_count": 48,
   "id": "b2c6e20b-3226-4914-bcc9-3d9a15ebb246",
   "metadata": {},
   "outputs": [
    {
     "data": {
      "text/plain": [
       "'from sklearn.preprocessing import LabelEncoder\\nl = LabelEncoder()'"
      ]
     },
     "execution_count": 48,
     "metadata": {},
     "output_type": "execute_result"
    }
   ],
   "source": [
    "'''from sklearn.preprocessing import LabelEncoder\n",
    "l = LabelEncoder()'''"
   ]
  },
  {
   "cell_type": "code",
   "execution_count": 49,
   "id": "83bdcd99-7f6a-4831-81e3-238802607b8f",
   "metadata": {},
   "outputs": [
    {
     "data": {
      "text/plain": [
       "\"final_df['Airline'] = l.fit_transform(final_df['Airline'])\\nfinal_df['Source'] = l.fit_transform(final_df['Source'])\\nfinal_df['Destination'] = l.fit_transform(final_df['Destination'])\\nfinal_df['Additional_Info'] = l.fit_transform(final_df['Additional_Info'])\""
      ]
     },
     "execution_count": 49,
     "metadata": {},
     "output_type": "execute_result"
    }
   ],
   "source": [
    "'''final_df['Airline'] = l.fit_transform(final_df['Airline'])\n",
    "final_df['Source'] = l.fit_transform(final_df['Source'])\n",
    "final_df['Destination'] = l.fit_transform(final_df['Destination'])\n",
    "final_df['Additional_Info'] = l.fit_transform(final_df['Additional_Info'])'''"
   ]
  },
  {
   "cell_type": "code",
   "execution_count": 50,
   "id": "2d6a95e4-7435-476c-b690-efff8a939ab2",
   "metadata": {},
   "outputs": [
    {
     "name": "stdout",
     "output_type": "stream",
     "text": [
      "<class 'pandas.core.frame.DataFrame'>\n",
      "Index: 13351 entries, 0 to 13353\n",
      "Data columns (total 14 columns):\n",
      " #   Column           Non-Null Count  Dtype  \n",
      "---  ------           --------------  -----  \n",
      " 0   Airline          13351 non-null  object \n",
      " 1   Source           13351 non-null  object \n",
      " 2   Destination      13351 non-null  object \n",
      " 3   Duration         13351 non-null  int32  \n",
      " 4   Total_Stops      13351 non-null  float64\n",
      " 5   Additional_Info  13351 non-null  object \n",
      " 6   Price            10681 non-null  float64\n",
      " 7   Date             13351 non-null  int32  \n",
      " 8   Month            13351 non-null  int32  \n",
      " 9   Year             13351 non-null  int32  \n",
      " 10  Arrival_Hour     13351 non-null  int32  \n",
      " 11  Arrival_Minute   13351 non-null  int32  \n",
      " 12  Dep_Hour         13351 non-null  int32  \n",
      " 13  Dep_Minute       13351 non-null  int32  \n",
      "dtypes: float64(2), int32(8), object(4)\n",
      "memory usage: 1.1+ MB\n"
     ]
    }
   ],
   "source": [
    "final_df.info()"
   ]
  },
  {
   "cell_type": "code",
   "execution_count": 51,
   "id": "7534a715-8637-4abf-b218-3079e9684523",
   "metadata": {},
   "outputs": [
    {
     "data": {
      "text/plain": [
       "Airline               0\n",
       "Source                0\n",
       "Destination           0\n",
       "Duration              0\n",
       "Total_Stops           0\n",
       "Additional_Info       0\n",
       "Price              2670\n",
       "Date                  0\n",
       "Month                 0\n",
       "Year                  0\n",
       "Arrival_Hour          0\n",
       "Arrival_Minute        0\n",
       "Dep_Hour              0\n",
       "Dep_Minute            0\n",
       "dtype: int64"
      ]
     },
     "execution_count": 51,
     "metadata": {},
     "output_type": "execute_result"
    }
   ],
   "source": [
    "final_df.isnull().sum()"
   ]
  },
  {
   "cell_type": "code",
   "execution_count": 52,
   "id": "448602c1-0a90-48d0-bcbe-f54798ffe7c1",
   "metadata": {},
   "outputs": [],
   "source": [
    "final_train = final_df[~final_df['Price'].isnull()]\n",
    "final_test = final_df[final_df['Price'].isnull()]"
   ]
  },
  {
   "cell_type": "code",
   "execution_count": 53,
   "id": "ff77f5c8-52fa-4d0f-8307-d582d1a8f14c",
   "metadata": {},
   "outputs": [
    {
     "name": "stdout",
     "output_type": "stream",
     "text": [
      "(10681, 14)\n",
      "(2670, 14)\n"
     ]
    }
   ],
   "source": [
    "print(final_train.shape)\n",
    "print(final_test.shape)"
   ]
  },
  {
   "cell_type": "code",
   "execution_count": 54,
   "id": "16a9c2da-2866-422e-9575-dfb6f70bab8e",
   "metadata": {},
   "outputs": [],
   "source": [
    "x = final_train.drop('Price',axis=1)\n",
    "y = final_train['Price']"
   ]
  },
  {
   "cell_type": "code",
   "execution_count": 55,
   "id": "277cc7d9-ecf1-48d8-baba-4a87ef7d170c",
   "metadata": {},
   "outputs": [
    {
     "data": {
      "text/plain": [
       "array(['IndiGo', 'Air India', 'Jet Airways', 'SpiceJet',\n",
       "       'Multiple carriers', 'GoAir', 'Vistara', 'Air Asia',\n",
       "       'Vistara Premium economy', 'Jet Airways Business',\n",
       "       'Multiple carriers Premium economy', 'Trujet'], dtype=object)"
      ]
     },
     "execution_count": 55,
     "metadata": {},
     "output_type": "execute_result"
    }
   ],
   "source": [
    "x['Airline'].unique()"
   ]
  },
  {
   "cell_type": "code",
   "execution_count": 56,
   "id": "fb0b2f84-eeeb-42be-803d-07cd570f7593",
   "metadata": {},
   "outputs": [],
   "source": [
    "from sklearn.compose import ColumnTransformer\n",
    "from sklearn.preprocessing import OneHotEncoder\n",
    "ct = ColumnTransformer(transformers=[('encoder', OneHotEncoder(), [0,1,2,5])], remainder='passthrough')\n",
    "x = np.array(ct.fit_transform(x))"
   ]
  },
  {
   "cell_type": "code",
   "execution_count": 57,
   "id": "f2cd551b-a6be-47bb-a5ce-08cd734a7379",
   "metadata": {},
   "outputs": [],
   "source": [
    "#finding outliers\n",
    "def plot(df,col):\n",
    "    fig, (ax1,ax2,ax3) = plt.subplots(3,1)\n",
    "    sns.distplot(df[col],ax=ax1)\n",
    "    sns.boxplot(df[col],ax=ax2)\n",
    "    sns.distplot(df[col],ax=ax3,kde=False)"
   ]
  },
  {
   "cell_type": "code",
   "execution_count": 58,
   "id": "fde37950-dbba-47a6-88cf-24b324ca42be",
   "metadata": {},
   "outputs": [
    {
     "name": "stderr",
     "output_type": "stream",
     "text": [
      "C:\\Users\\udaya\\AppData\\Local\\Temp\\ipykernel_12688\\4153651058.py:4: UserWarning: \n",
      "\n",
      "`distplot` is a deprecated function and will be removed in seaborn v0.14.0.\n",
      "\n",
      "Please adapt your code to use either `displot` (a figure-level function with\n",
      "similar flexibility) or `histplot` (an axes-level function for histograms).\n",
      "\n",
      "For a guide to updating your code to use the new functions, please see\n",
      "https://gist.github.com/mwaskom/de44147ed2974457ad6372750bbe5751\n",
      "\n",
      "  sns.distplot(df[col],ax=ax1)\n",
      "C:\\Users\\udaya\\AppData\\Local\\Temp\\ipykernel_12688\\4153651058.py:6: UserWarning: \n",
      "\n",
      "`distplot` is a deprecated function and will be removed in seaborn v0.14.0.\n",
      "\n",
      "Please adapt your code to use either `displot` (a figure-level function with\n",
      "similar flexibility) or `histplot` (an axes-level function for histograms).\n",
      "\n",
      "For a guide to updating your code to use the new functions, please see\n",
      "https://gist.github.com/mwaskom/de44147ed2974457ad6372750bbe5751\n",
      "\n",
      "  sns.distplot(df[col],ax=ax3,kde=False)\n"
     ]
    },
    {
     "data": {
      "image/png": "[encoded data removed]",
      "text/plain": [
       "<Figure size 640x480 with 3 Axes>"
      ]
     },
     "metadata": {},
     "output_type": "display_data"
    }
   ],
   "source": [
    "plot(final_df,'Price')"
   ]
  },
  {
   "cell_type": "code",
   "execution_count": 59,
   "id": "8b6672e8-ee7b-4416-8692-5c8ee73f8ed4",
   "metadata": {},
   "outputs": [],
   "source": [
    "q1=final_df['Price'].quantile(0.25)\n",
    "q3 = final_df['Price'].quantile(0.75)\n",
    "\n",
    "iqr = q3-q1\n",
    "maximum = q3+1.5*iqr\n",
    "minimum = q1-1.5*iqr"
   ]
  },
  {
   "cell_type": "code",
   "execution_count": 60,
   "id": "3b4842bb-44c3-4929-ad69-8bf7d30fd6be",
   "metadata": {},
   "outputs": [
    {
     "data": {
      "text/plain": [
       "23017.0"
      ]
     },
     "execution_count": 60,
     "metadata": {},
     "output_type": "execute_result"
    }
   ],
   "source": [
    "maximum"
   ]
  },
  {
   "cell_type": "code",
   "execution_count": 61,
   "id": "65f13074-2bc2-41f9-9510-8ab1bbe68db3",
   "metadata": {},
   "outputs": [
    {
     "data": {
      "text/plain": [
       "-5367.0"
      ]
     },
     "execution_count": 61,
     "metadata": {},
     "output_type": "execute_result"
    }
   ],
   "source": [
    "minimum"
   ]
  },
  {
   "cell_type": "code",
   "execution_count": 62,
   "id": "c90bfada-b09e-46cb-a0f7-d0c5f0a09cf4",
   "metadata": {},
   "outputs": [
    {
     "name": "stdout",
     "output_type": "stream",
     "text": [
      "94\n"
     ]
    }
   ],
   "source": [
    "print(len([price for price in final_df['Price'] if price>maximum or price<minimum]))"
   ]
  },
  {
   "cell_type": "code",
   "execution_count": 63,
   "id": "e9231342-8e29-4c5e-b854-d1b9c68675ba",
   "metadata": {},
   "outputs": [],
   "source": [
    "final_df['Price'] = np.where(final_df['Price']>=25000,final_df['Price'].median(),final_df['Price'])"
   ]
  },
  {
   "cell_type": "code",
   "execution_count": 64,
   "id": "5b0bb5d8-63ff-4933-befd-8023ce53a24b",
   "metadata": {},
   "outputs": [
    {
     "data": {
      "text/plain": [
       "array([ 3897.,  7662., 13882., ..., 12352., 12648.,    nan])"
      ]
     },
     "execution_count": 64,
     "metadata": {},
     "output_type": "execute_result"
    }
   ],
   "source": [
    "final_df['Price'].unique()"
   ]
  },
  {
   "cell_type": "code",
   "execution_count": 65,
   "id": "c52f15f2-beb2-42e8-a313-4903172ba9ad",
   "metadata": {},
   "outputs": [
    {
     "name": "stderr",
     "output_type": "stream",
     "text": [
      "C:\\Users\\udaya\\AppData\\Local\\Temp\\ipykernel_12688\\4153651058.py:4: UserWarning: \n",
      "\n",
      "`distplot` is a deprecated function and will be removed in seaborn v0.14.0.\n",
      "\n",
      "Please adapt your code to use either `displot` (a figure-level function with\n",
      "similar flexibility) or `histplot` (an axes-level function for histograms).\n",
      "\n",
      "For a guide to updating your code to use the new functions, please see\n",
      "https://gist.github.com/mwaskom/de44147ed2974457ad6372750bbe5751\n",
      "\n",
      "  sns.distplot(df[col],ax=ax1)\n",
      "C:\\Users\\udaya\\AppData\\Local\\Temp\\ipykernel_12688\\4153651058.py:6: UserWarning: \n",
      "\n",
      "`distplot` is a deprecated function and will be removed in seaborn v0.14.0.\n",
      "\n",
      "Please adapt your code to use either `displot` (a figure-level function with\n",
      "similar flexibility) or `histplot` (an axes-level function for histograms).\n",
      "\n",
      "For a guide to updating your code to use the new functions, please see\n",
      "https://gist.github.com/mwaskom/de44147ed2974457ad6372750bbe5751\n",
      "\n",
      "  sns.distplot(df[col],ax=ax3,kde=False)\n"
     ]
    },
    {
     "data": {
      "image/png": "[encoded data removed]",
      "text/plain": [
       "<Figure size 640x480 with 3 Axes>"
      ]
     },
     "metadata": {},
     "output_type": "display_data"
    }
   ],
   "source": [
    "plot(final_df,'Price')"
   ]
  },
  {
   "cell_type": "code",
   "execution_count": 66,
   "id": "1995856b-803a-4eb2-bd89-1fbf7631fa40",
   "metadata": {},
   "outputs": [
    {
     "data": {
      "text/plain": [
       "(10681, 42)"
      ]
     },
     "execution_count": 66,
     "metadata": {},
     "output_type": "execute_result"
    }
   ],
   "source": [
    "x.shape"
   ]
  },
  {
   "cell_type": "code",
   "execution_count": 67,
   "id": "770f4587-a2d7-4c2e-a379-e7b6574cd41c",
   "metadata": {},
   "outputs": [],
   "source": [
    "from sklearn.model_selection import train_test_split\n",
    "x_train,x_test,y_train,y_test = train_test_split(x,y,test_size=0.2,random_state=0)"
   ]
  },
  {
   "cell_type": "code",
   "execution_count": 68,
   "id": "9990af5e-60be-449f-be3a-bbeae2de90d2",
   "metadata": {},
   "outputs": [
    {
     "data": {
      "text/plain": [
       "(8544, 42)"
      ]
     },
     "execution_count": 68,
     "metadata": {},
     "output_type": "execute_result"
    }
   ],
   "source": [
    "x_train.shape"
   ]
  },
  {
   "cell_type": "code",
   "execution_count": 69,
   "id": "51cf8092-ec5e-4bc1-965f-1f953ad546cb",
   "metadata": {},
   "outputs": [],
   "source": [
    "from sklearn.preprocessing import StandardScaler\n",
    "sc = StandardScaler()\n",
    "x_train = sc.fit_transform(x_train)\n",
    "x_test = sc.transform(x_test)"
   ]
  },
  {
   "cell_type": "code",
   "execution_count": 70,
   "id": "f5beb1b0-2728-4d66-9557-ae1617d8e0c8",
   "metadata": {},
   "outputs": [
    {
     "data": {
      "text/plain": [
       "array([[-0.17574991, -0.43623813, -0.13637447, ...,  1.53198649,\n",
       "         1.32085372, -0.23590344],\n",
       "       [-0.17574991, -0.43623813,  7.33275056, ...,  0.01642567,\n",
       "        -1.12209459,  0.56318167],\n",
       "       [-0.17574991, -0.43623813, -0.13637447, ...,  0.01642567,\n",
       "         1.66984634,  1.36226679],\n",
       "       ...,\n",
       "       [-0.17574991, -0.43623813, -0.13637447, ...,  0.01642567,\n",
       "        -0.77310197, -1.30135026],\n",
       "       [-0.17574991, -0.43623813, -0.13637447, ...,  0.01642567,\n",
       "         1.66984634, -1.03498856],\n",
       "       [-0.17574991, -0.43623813, -0.13637447, ...,  0.62265   ,\n",
       "         1.32085372,  0.03045826]])"
      ]
     },
     "execution_count": 70,
     "metadata": {},
     "output_type": "execute_result"
    }
   ],
   "source": [
    "x_train"
   ]
  },
  {
   "cell_type": "code",
   "execution_count": 71,
   "id": "10a110ca-3cf8-4d91-9229-60b56124f7a1",
   "metadata": {},
   "outputs": [],
   "source": [
    "#import tensorflow as tf\n",
    "#ann = tf.keras.models.Sequential()"
   ]
  },
  {
   "cell_type": "code",
   "execution_count": 72,
   "id": "a8bf1f6e-c375-4674-af19-ba5adafc8d2f",
   "metadata": {},
   "outputs": [],
   "source": [
    "#ann.add(tf.keras.layers.Dense(units = 20,activation = \"relu\"))"
   ]
  },
  {
   "cell_type": "code",
   "execution_count": 73,
   "id": "9ef30357-abff-4ab5-bdcc-a33ca3684118",
   "metadata": {},
   "outputs": [],
   "source": [
    "#ann.add(tf.keras.layers.Dense(units = 20,activation = \"relu\"))"
   ]
  },
  {
   "cell_type": "code",
   "execution_count": 74,
   "id": "501b3239-3d86-40a2-aedb-1e92f9eea160",
   "metadata": {},
   "outputs": [
    {
     "data": {
      "text/plain": [
       "\"param_grid = { \\n    'n_estimators': [25, 50, 100, 150,200,250,300],\\n    'max_features': ['sqrt', 'log2', None], \\n    'max_depth': [3, 6, 9], \\n    'max_leaf_nodes': [3, 6, 9], \\n} \""
      ]
     },
     "execution_count": 74,
     "metadata": {},
     "output_type": "execute_result"
    }
   ],
   "source": [
    "'''param_grid = { \n",
    "    'n_estimators': [25, 50, 100, 150,200,250,300],\n",
    "    'max_features': ['sqrt', 'log2', None], \n",
    "    'max_depth': [3, 6, 9], \n",
    "    'max_leaf_nodes': [3, 6, 9], \n",
    "} '''"
   ]
  },
  {
   "cell_type": "code",
   "execution_count": 75,
   "id": "ecd78d35-ac36-4c2b-8b59-4ddb05a8a617",
   "metadata": {},
   "outputs": [],
   "source": [
    "#ann.add(tf.keras.layers.Dense(units = 1,activation = \"linear\"))"
   ]
  },
  {
   "cell_type": "code",
   "execution_count": 76,
   "id": "b963380b-65b6-4cd8-a794-47b9886427fa",
   "metadata": {},
   "outputs": [],
   "source": [
    "#ann.compile(optimizer = \"Adam\",loss = \"mse\",metrics=['accuracy'])"
   ]
  },
  {
   "cell_type": "code",
   "execution_count": 77,
   "id": "5f46e985-9230-4654-8689-471c3379b946",
   "metadata": {},
   "outputs": [],
   "source": [
    "#ann.fit(x_train,y_train,batch_size = 32,epochs = 100)"
   ]
  },
  {
   "cell_type": "code",
   "execution_count": 78,
   "id": "2d6e0656-bd64-4ecd-b10c-f6935a073a50",
   "metadata": {},
   "outputs": [
    {
     "data": {
      "text/plain": [
       "'from sklearn.ensemble import RandomForestRegressor\\nfrom sklearn.model_selection import GridSearchCV,RandomizedSearchCV \\ngrid_search = GridSearchCV(RandomForestRegressor(), \\n                           param_grid=param_grid) \\ny_train = y_train.to_numpy().ravel()\\ngrid_search.fit(x_train, y_train)\\nprint(grid_search.best_estimator_)'"
      ]
     },
     "execution_count": 78,
     "metadata": {},
     "output_type": "execute_result"
    }
   ],
   "source": [
    "'''from sklearn.ensemble import RandomForestRegressor\n",
    "from sklearn.model_selection import GridSearchCV,RandomizedSearchCV \n",
    "grid_search = GridSearchCV(RandomForestRegressor(), \n",
    "                           param_grid=param_grid) \n",
    "y_train = y_train.to_numpy().ravel()\n",
    "grid_search.fit(x_train, y_train)\n",
    "print(grid_search.best_estimator_)'''\n"
   ]
  },
  {
   "cell_type": "code",
   "execution_count": 79,
   "id": "3bee1ccb-2c13-4b37-b9f5-4f92634e4010",
   "metadata": {},
   "outputs": [
    {
     "data": {
      "text/plain": [
       "\"from sklearn.model_selection import RandomizedSearchCV\\nfrom sklearn.ensemble import RandomForestRegressor\\nimport numpy as np\\n\\n# Define the parameter grid\\nparam_dist = {\\n    'n_estimators': np.arange(100, 1000, 100),\\n    'max_depth': np.arange(10, 50, 10),\\n    'min_samples_split': [2, 5, 10],\\n    'min_samples_leaf': [1, 2, 4],\\n    'bootstrap': [True, False]\\n}\\n\\n# Initialize the model\\nrf = RandomForestRegressor()\\n\\n# RandomizedSearchCV with 100 iterations\\nrandom_search = RandomizedSearchCV(\\n    estimator=rf,\\n    param_distributions=param_dist,\\n    n_iter=100,  # Number of random combinations to try\\n    cv=3,  # 3-fold cross-validation\\n    verbose=2,\\n    random_state=42,\\n    n_jobs=-1  # Use all cores for parallel processing\\n)\\n\\n# Fit the model\\nrandom_search.fit(x_train, y_train)\""
      ]
     },
     "execution_count": 79,
     "metadata": {},
     "output_type": "execute_result"
    }
   ],
   "source": [
    "'''from sklearn.model_selection import RandomizedSearchCV\n",
    "from sklearn.ensemble import RandomForestRegressor\n",
    "import numpy as np\n",
    "\n",
    "# Define the parameter grid\n",
    "param_dist = {\n",
    "    'n_estimators': np.arange(100, 1000, 100),\n",
    "    'max_depth': np.arange(10, 50, 10),\n",
    "    'min_samples_split': [2, 5, 10],\n",
    "    'min_samples_leaf': [1, 2, 4],\n",
    "    'bootstrap': [True, False]\n",
    "}\n",
    "\n",
    "# Initialize the model\n",
    "rf = RandomForestRegressor()\n",
    "\n",
    "# RandomizedSearchCV with 100 iterations\n",
    "random_search = RandomizedSearchCV(\n",
    "    estimator=rf,\n",
    "    param_distributions=param_dist,\n",
    "    n_iter=100,  # Number of random combinations to try\n",
    "    cv=3,  # 3-fold cross-validation\n",
    "    verbose=2,\n",
    "    random_state=42,\n",
    "    n_jobs=-1  # Use all cores for parallel processing\n",
    ")\n",
    "\n",
    "# Fit the model\n",
    "random_search.fit(x_train, y_train)'''\n"
   ]
  },
  {
   "cell_type": "code",
   "execution_count": 80,
   "id": "944433e2-6539-4cbb-8530-688c27ad0dde",
   "metadata": {},
   "outputs": [
    {
     "data": {
      "text/html": [
       "<style>#sk-container-id-1 {\n",
       "  /* Definition of color scheme common for light and dark mode */\n",
       "  --sklearn-color-text: black;\n",
       "  --sklearn-color-line: gray;\n",
       "  /* Definition of color scheme for unfitted estimators */\n",
       "  --sklearn-color-unfitted-level-0: #fff5e6;\n",
       "  --sklearn-color-unfitted-level-1: #f6e4d2;\n",
       "  --sklearn-color-unfitted-level-2: #ffe0b3;\n",
       "  --sklearn-color-unfitted-level-3: chocolate;\n",
       "  /* Definition of color scheme for fitted estimators */\n",
       "  --sklearn-color-fitted-level-0: #f0f8ff;\n",
       "  --sklearn-color-fitted-level-1: #d4ebff;\n",
       "  --sklearn-color-fitted-level-2: #b3dbfd;\n",
       "  --sklearn-color-fitted-level-3: cornflowerblue;\n",
       "\n",
       "  /* Specific color for light theme */\n",
       "  --sklearn-color-text-on-default-background: var(--sg-text-color, var(--theme-code-foreground, var(--jp-content-font-color1, black)));\n",
       "  --sklearn-color-background: var(--sg-background-color, var(--theme-background, var(--jp-layout-color0, white)));\n",
       "  --sklearn-color-border-box: var(--sg-text-color, var(--theme-code-foreground, var(--jp-content-font-color1, black)));\n",
       "  --sklearn-color-icon: #696969;\n",
       "\n",
       "  @media (prefers-color-scheme: dark) {\n",
       "    /* Redefinition of color scheme for dark theme */\n",
       "    --sklearn-color-text-on-default-background: var(--sg-text-color, var(--theme-code-foreground, var(--jp-content-font-color1, white)));\n",
       "    --sklearn-color-background: var(--sg-background-color, var(--theme-background, var(--jp-layout-color0, #111)));\n",
       "    --sklearn-color-border-box: var(--sg-text-color, var(--theme-code-foreground, var(--jp-content-font-color1, white)));\n",
       "    --sklearn-color-icon: #878787;\n",
       "  }\n",
       "}\n",
       "\n",
       "#sk-container-id-1 {\n",
       "  color: var(--sklearn-color-text);\n",
       "}\n",
       "\n",
       "#sk-container-id-1 pre {\n",
       "  padding: 0;\n",
       "}\n",
       "\n",
       "#sk-container-id-1 input.sk-hidden--visually {\n",
       "  border: 0;\n",
       "  clip: rect(1px 1px 1px 1px);\n",
       "  clip: rect(1px, 1px, 1px, 1px);\n",
       "  height: 1px;\n",
       "  margin: -1px;\n",
       "  overflow: hidden;\n",
       "  padding: 0;\n",
       "  position: absolute;\n",
       "  width: 1px;\n",
       "}\n",
       "\n",
       "#sk-container-id-1 div.sk-dashed-wrapped {\n",
       "  border: 1px dashed var(--sklearn-color-line);\n",
       "  margin: 0 0.4em 0.5em 0.4em;\n",
       "  box-sizing: border-box;\n",
       "  padding-bottom: 0.4em;\n",
       "  background-color: var(--sklearn-color-background);\n",
       "}\n",
       "\n",
       "#sk-container-id-1 div.sk-container {\n",
       "  /* jupyter's `normalize.less` sets `[hidden] { display: none; }`\n",
       "     but bootstrap.min.css set `[hidden] { display: none !important; }`\n",
       "     so we also need the `!important` here to be able to override the\n",
       "     default hidden behavior on the sphinx rendered scikit-learn.org.\n",
       "     See: https://github.com/scikit-learn/scikit-learn/issues/21755 */\n",
       "  display: inline-block !important;\n",
       "  position: relative;\n",
       "}\n",
       "\n",
       "#sk-container-id-1 div.sk-text-repr-fallback {\n",
       "  display: none;\n",
       "}\n",
       "\n",
       "div.sk-parallel-item,\n",
       "div.sk-serial,\n",
       "div.sk-item {\n",
       "  /* draw centered vertical line to link estimators */\n",
       "  background-image: linear-gradient(var(--sklearn-color-text-on-default-background), var(--sklearn-color-text-on-default-background));\n",
       "  background-size: 2px 100%;\n",
       "  background-repeat: no-repeat;\n",
       "  background-position: center center;\n",
       "}\n",
       "\n",
       "/* Parallel-specific style estimator block */\n",
       "\n",
       "#sk-container-id-1 div.sk-parallel-item::after {\n",
       "  content: \"\";\n",
       "  width: 100%;\n",
       "  border-bottom: 2px solid var(--sklearn-color-text-on-default-background);\n",
       "  flex-grow: 1;\n",
       "}\n",
       "\n",
       "#sk-container-id-1 div.sk-parallel {\n",
       "  display: flex;\n",
       "  align-items: stretch;\n",
       "  justify-content: center;\n",
       "  background-color: var(--sklearn-color-background);\n",
       "  position: relative;\n",
       "}\n",
       "\n",
       "#sk-container-id-1 div.sk-parallel-item {\n",
       "  display: flex;\n",
       "  flex-direction: column;\n",
       "}\n",
       "\n",
       "#sk-container-id-1 div.sk-parallel-item:first-child::after {\n",
       "  align-self: flex-end;\n",
       "  width: 50%;\n",
       "}\n",
       "\n",
       "#sk-container-id-1 div.sk-parallel-item:last-child::after {\n",
       "  align-self: flex-start;\n",
       "  width: 50%;\n",
       "}\n",
       "\n",
       "#sk-container-id-1 div.sk-parallel-item:only-child::after {\n",
       "  width: 0;\n",
       "}\n",
       "\n",
       "/* Serial-specific style estimator block */\n",
       "\n",
       "#sk-container-id-1 div.sk-serial {\n",
       "  display: flex;\n",
       "  flex-direction: column;\n",
       "  align-items: center;\n",
       "  background-color: var(--sklearn-color-background);\n",
       "  padding-right: 1em;\n",
       "  padding-left: 1em;\n",
       "}\n",
       "\n",
       "\n",
       "/* Toggleable style: style used for estimator/Pipeline/ColumnTransformer box that is\n",
       "clickable and can be expanded/collapsed.\n",
       "- Pipeline and ColumnTransformer use this feature and define the default style\n",
       "- Estimators will overwrite some part of the style using the `sk-estimator` class\n",
       "*/\n",
       "\n",
       "/* Pipeline and ColumnTransformer style (default) */\n",
       "\n",
       "#sk-container-id-1 div.sk-toggleable {\n",
       "  /* Default theme specific background. It is overwritten whether we have a\n",
       "  specific estimator or a Pipeline/ColumnTransformer */\n",
       "  background-color: var(--sklearn-color-background);\n",
       "}\n",
       "\n",
       "/* Toggleable label */\n",
       "#sk-container-id-1 label.sk-toggleable__label {\n",
       "  cursor: pointer;\n",
       "  display: block;\n",
       "  width: 100%;\n",
       "  margin-bottom: 0;\n",
       "  padding: 0.5em;\n",
       "  box-sizing: border-box;\n",
       "  text-align: center;\n",
       "}\n",
       "\n",
       "#sk-container-id-1 label.sk-toggleable__label-arrow:before {\n",
       "  /* Arrow on the left of the label */\n",
       "  content: \"▸\";\n",
       "  float: left;\n",
       "  margin-right: 0.25em;\n",
       "  color: var(--sklearn-color-icon);\n",
       "}\n",
       "\n",
       "#sk-container-id-1 label.sk-toggleable__label-arrow:hover:before {\n",
       "  color: var(--sklearn-color-text);\n",
       "}\n",
       "\n",
       "/* Toggleable content - dropdown */\n",
       "\n",
       "#sk-container-id-1 div.sk-toggleable__content {\n",
       "  max-height: 0;\n",
       "  max-width: 0;\n",
       "  overflow: hidden;\n",
       "  text-align: left;\n",
       "  /* unfitted */\n",
       "  background-color: var(--sklearn-color-unfitted-level-0);\n",
       "}\n",
       "\n",
       "#sk-container-id-1 div.sk-toggleable__content.fitted {\n",
       "  /* fitted */\n",
       "  background-color: var(--sklearn-color-fitted-level-0);\n",
       "}\n",
       "\n",
       "#sk-container-id-1 div.sk-toggleable__content pre {\n",
       "  margin: 0.2em;\n",
       "  border-radius: 0.25em;\n",
       "  color: var(--sklearn-color-text);\n",
       "  /* unfitted */\n",
       "  background-color: var(--sklearn-color-unfitted-level-0);\n",
       "}\n",
       "\n",
       "#sk-container-id-1 div.sk-toggleable__content.fitted pre {\n",
       "  /* unfitted */\n",
       "  background-color: var(--sklearn-color-fitted-level-0);\n",
       "}\n",
       "\n",
       "#sk-container-id-1 input.sk-toggleable__control:checked~div.sk-toggleable__content {\n",
       "  /* Expand drop-down */\n",
       "  max-height: 200px;\n",
       "  max-width: 100%;\n",
       "  overflow: auto;\n",
       "}\n",
       "\n",
       "#sk-container-id-1 input.sk-toggleable__control:checked~label.sk-toggleable__label-arrow:before {\n",
       "  content: \"▾\";\n",
       "}\n",
       "\n",
       "/* Pipeline/ColumnTransformer-specific style */\n",
       "\n",
       "#sk-container-id-1 div.sk-label input.sk-toggleable__control:checked~label.sk-toggleable__label {\n",
       "  color: var(--sklearn-color-text);\n",
       "  background-color: var(--sklearn-color-unfitted-level-2);\n",
       "}\n",
       "\n",
       "#sk-container-id-1 div.sk-label.fitted input.sk-toggleable__control:checked~label.sk-toggleable__label {\n",
       "  background-color: var(--sklearn-color-fitted-level-2);\n",
       "}\n",
       "\n",
       "/* Estimator-specific style */\n",
       "\n",
       "/* Colorize estimator box */\n",
       "#sk-container-id-1 div.sk-estimator input.sk-toggleable__control:checked~label.sk-toggleable__label {\n",
       "  /* unfitted */\n",
       "  background-color: var(--sklearn-color-unfitted-level-2);\n",
       "}\n",
       "\n",
       "#sk-container-id-1 div.sk-estimator.fitted input.sk-toggleable__control:checked~label.sk-toggleable__label {\n",
       "  /* fitted */\n",
       "  background-color: var(--sklearn-color-fitted-level-2);\n",
       "}\n",
       "\n",
       "#sk-container-id-1 div.sk-label label.sk-toggleable__label,\n",
       "#sk-container-id-1 div.sk-label label {\n",
       "  /* The background is the default theme color */\n",
       "  color: var(--sklearn-color-text-on-default-background);\n",
       "}\n",
       "\n",
       "/* On hover, darken the color of the background */\n",
       "#sk-container-id-1 div.sk-label:hover label.sk-toggleable__label {\n",
       "  color: var(--sklearn-color-text);\n",
       "  background-color: var(--sklearn-color-unfitted-level-2);\n",
       "}\n",
       "\n",
       "/* Label box, darken color on hover, fitted */\n",
       "#sk-container-id-1 div.sk-label.fitted:hover label.sk-toggleable__label.fitted {\n",
       "  color: var(--sklearn-color-text);\n",
       "  background-color: var(--sklearn-color-fitted-level-2);\n",
       "}\n",
       "\n",
       "/* Estimator label */\n",
       "\n",
       "#sk-container-id-1 div.sk-label label {\n",
       "  font-family: monospace;\n",
       "  font-weight: bold;\n",
       "  display: inline-block;\n",
       "  line-height: 1.2em;\n",
       "}\n",
       "\n",
       "#sk-container-id-1 div.sk-label-container {\n",
       "  text-align: center;\n",
       "}\n",
       "\n",
       "/* Estimator-specific */\n",
       "#sk-container-id-1 div.sk-estimator {\n",
       "  font-family: monospace;\n",
       "  border: 1px dotted var(--sklearn-color-border-box);\n",
       "  border-radius: 0.25em;\n",
       "  box-sizing: border-box;\n",
       "  margin-bottom: 0.5em;\n",
       "  /* unfitted */\n",
       "  background-color: var(--sklearn-color-unfitted-level-0);\n",
       "}\n",
       "\n",
       "#sk-container-id-1 div.sk-estimator.fitted {\n",
       "  /* fitted */\n",
       "  background-color: var(--sklearn-color-fitted-level-0);\n",
       "}\n",
       "\n",
       "/* on hover */\n",
       "#sk-container-id-1 div.sk-estimator:hover {\n",
       "  /* unfitted */\n",
       "  background-color: var(--sklearn-color-unfitted-level-2);\n",
       "}\n",
       "\n",
       "#sk-container-id-1 div.sk-estimator.fitted:hover {\n",
       "  /* fitted */\n",
       "  background-color: var(--sklearn-color-fitted-level-2);\n",
       "}\n",
       "\n",
       "/* Specification for estimator info (e.g. \"i\" and \"?\") */\n",
       "\n",
       "/* Common style for \"i\" and \"?\" */\n",
       "\n",
       ".sk-estimator-doc-link,\n",
       "a:link.sk-estimator-doc-link,\n",
       "a:visited.sk-estimator-doc-link {\n",
       "  float: right;\n",
       "  font-size: smaller;\n",
       "  line-height: 1em;\n",
       "  font-family: monospace;\n",
       "  background-color: var(--sklearn-color-background);\n",
       "  border-radius: 1em;\n",
       "  height: 1em;\n",
       "  width: 1em;\n",
       "  text-decoration: none !important;\n",
       "  margin-left: 1ex;\n",
       "  /* unfitted */\n",
       "  border: var(--sklearn-color-unfitted-level-1) 1pt solid;\n",
       "  color: var(--sklearn-color-unfitted-level-1);\n",
       "}\n",
       "\n",
       ".sk-estimator-doc-link.fitted,\n",
       "a:link.sk-estimator-doc-link.fitted,\n",
       "a:visited.sk-estimator-doc-link.fitted {\n",
       "  /* fitted */\n",
       "  border: var(--sklearn-color-fitted-level-1) 1pt solid;\n",
       "  color: var(--sklearn-color-fitted-level-1);\n",
       "}\n",
       "\n",
       "/* On hover */\n",
       "div.sk-estimator:hover .sk-estimator-doc-link:hover,\n",
       ".sk-estimator-doc-link:hover,\n",
       "div.sk-label-container:hover .sk-estimator-doc-link:hover,\n",
       ".sk-estimator-doc-link:hover {\n",
       "  /* unfitted */\n",
       "  background-color: var(--sklearn-color-unfitted-level-3);\n",
       "  color: var(--sklearn-color-background);\n",
       "  text-decoration: none;\n",
       "}\n",
       "\n",
       "div.sk-estimator.fitted:hover .sk-estimator-doc-link.fitted:hover,\n",
       ".sk-estimator-doc-link.fitted:hover,\n",
       "div.sk-label-container:hover .sk-estimator-doc-link.fitted:hover,\n",
       ".sk-estimator-doc-link.fitted:hover {\n",
       "  /* fitted */\n",
       "  background-color: var(--sklearn-color-fitted-level-3);\n",
       "  color: var(--sklearn-color-background);\n",
       "  text-decoration: none;\n",
       "}\n",
       "\n",
       "/* Span, style for the box shown on hovering the info icon */\n",
       ".sk-estimator-doc-link span {\n",
       "  display: none;\n",
       "  z-index: 9999;\n",
       "  position: relative;\n",
       "  font-weight: normal;\n",
       "  right: .2ex;\n",
       "  padding: .5ex;\n",
       "  margin: .5ex;\n",
       "  width: min-content;\n",
       "  min-width: 20ex;\n",
       "  max-width: 50ex;\n",
       "  color: var(--sklearn-color-text);\n",
       "  box-shadow: 2pt 2pt 4pt #999;\n",
       "  /* unfitted */\n",
       "  background: var(--sklearn-color-unfitted-level-0);\n",
       "  border: .5pt solid var(--sklearn-color-unfitted-level-3);\n",
       "}\n",
       "\n",
       ".sk-estimator-doc-link.fitted span {\n",
       "  /* fitted */\n",
       "  background: var(--sklearn-color-fitted-level-0);\n",
       "  border: var(--sklearn-color-fitted-level-3);\n",
       "}\n",
       "\n",
       ".sk-estimator-doc-link:hover span {\n",
       "  display: block;\n",
       "}\n",
       "\n",
       "/* \"?\"-specific style due to the `<a>` HTML tag */\n",
       "\n",
       "#sk-container-id-1 a.estimator_doc_link {\n",
       "  float: right;\n",
       "  font-size: 1rem;\n",
       "  line-height: 1em;\n",
       "  font-family: monospace;\n",
       "  background-color: var(--sklearn-color-background);\n",
       "  border-radius: 1rem;\n",
       "  height: 1rem;\n",
       "  width: 1rem;\n",
       "  text-decoration: none;\n",
       "  /* unfitted */\n",
       "  color: var(--sklearn-color-unfitted-level-1);\n",
       "  border: var(--sklearn-color-unfitted-level-1) 1pt solid;\n",
       "}\n",
       "\n",
       "#sk-container-id-1 a.estimator_doc_link.fitted {\n",
       "  /* fitted */\n",
       "  border: var(--sklearn-color-fitted-level-1) 1pt solid;\n",
       "  color: var(--sklearn-color-fitted-level-1);\n",
       "}\n",
       "\n",
       "/* On hover */\n",
       "#sk-container-id-1 a.estimator_doc_link:hover {\n",
       "  /* unfitted */\n",
       "  background-color: var(--sklearn-color-unfitted-level-3);\n",
       "  color: var(--sklearn-color-background);\n",
       "  text-decoration: none;\n",
       "}\n",
       "\n",
       "#sk-container-id-1 a.estimator_doc_link.fitted:hover {\n",
       "  /* fitted */\n",
       "  background-color: var(--sklearn-color-fitted-level-3);\n",
       "}\n",
       "</style><div id=\"sk-container-id-1\" class=\"sk-top-container\"><div class=\"sk-text-repr-fallback\"><pre>RandomForestRegressor()</pre><b>In a Jupyter environment, please rerun this cell to show the HTML representation or trust the notebook. <br />On GitHub, the HTML representation is unable to render, please try loading this page with nbviewer.org.</b></div><div class=\"sk-container\" hidden><div class=\"sk-item\"><div class=\"sk-estimator fitted sk-toggleable\"><input class=\"sk-toggleable__control sk-hidden--visually\" id=\"sk-estimator-id-1\" type=\"checkbox\" checked><label for=\"sk-estimator-id-1\" class=\"sk-toggleable__label fitted sk-toggleable__label-arrow fitted\">&nbsp;&nbsp;RandomForestRegressor<a class=\"sk-estimator-doc-link fitted\" rel=\"noreferrer\" target=\"_blank\" href=\"https://scikit-learn.org/1.4/modules/generated/sklearn.ensemble.RandomForestRegressor.html\">?<span>Documentation for RandomForestRegressor</span></a><span class=\"sk-estimator-doc-link fitted\">i<span>Fitted</span></span></label><div class=\"sk-toggleable__content fitted\"><pre>RandomForestRegressor()</pre></div> </div></div></div></div>"
      ],
      "text/plain": [
       "RandomForestRegressor()"
      ]
     },
     "execution_count": 80,
     "metadata": {},
     "output_type": "execute_result"
    }
   ],
   "source": [
    "from sklearn.ensemble import RandomForestRegressor\n",
    "linear = RandomForestRegressor()\n",
    "linear.fit(x_train,y_train)"
   ]
  },
  {
   "cell_type": "code",
   "execution_count": 81,
   "id": "65d0cbbf-4f06-4777-a8b2-72bb0863fc09",
   "metadata": {},
   "outputs": [
    {
     "data": {
      "text/plain": [
       "'from sklearn.linear_model import LinearRegression\\nlinear = LinearRegression()\\nlinear.fit(x_train,y_train)'"
      ]
     },
     "execution_count": 81,
     "metadata": {},
     "output_type": "execute_result"
    }
   ],
   "source": [
    "'''from sklearn.linear_model import LinearRegression\n",
    "linear = LinearRegression()\n",
    "linear.fit(x_train,y_train)'''"
   ]
  },
  {
   "cell_type": "code",
   "execution_count": 82,
   "id": "73612f34-bd8f-43e0-bc06-06262d25e632",
   "metadata": {},
   "outputs": [],
   "source": [
    "y_pred=linear.predict(x_test)"
   ]
  },
  {
   "cell_type": "code",
   "execution_count": 83,
   "id": "f3867ade-e85c-46c1-b43b-0c37b91c529f",
   "metadata": {},
   "outputs": [],
   "source": [
    "#y_pred = linear.predict(x_test)"
   ]
  },
  {
   "cell_type": "code",
   "execution_count": 179,
   "id": "14d8f525-74c8-4210-8902-e806de71902a",
   "metadata": {},
   "outputs": [
    {
     "name": "stderr",
     "output_type": "stream",
     "text": [
      "C:\\Users\\udaya\\AppData\\Local\\Temp\\ipykernel_12688\\520176394.py:1: UserWarning: \n",
      "\n",
      "`distplot` is a deprecated function and will be removed in seaborn v0.14.0.\n",
      "\n",
      "Please adapt your code to use either `displot` (a figure-level function with\n",
      "similar flexibility) or `histplot` (an axes-level function for histograms).\n",
      "\n",
      "For a guide to updating your code to use the new functions, please see\n",
      "https://gist.github.com/mwaskom/de44147ed2974457ad6372750bbe5751\n",
      "\n",
      "  sns.distplot(y_test-y_pred)\n"
     ]
    },
    {
     "data": {
      "text/plain": [
       "<Axes: xlabel='Price', ylabel='Density'>"
      ]
     },
     "execution_count": 179,
     "metadata": {},
     "output_type": "execute_result"
    },
    {
     "data": {
      "image/png": "[encoded data removed]",
      "text/plain": [
       "<Figure size 640x480 with 1 Axes>"
      ]
     },
     "metadata": {},
     "output_type": "display_data"
    }
   ],
   "source": [
    "sns.distplot(y_test-y_pred)"
   ]
  },
  {
   "cell_type": "code",
   "execution_count": 194,
   "id": "d904fc16-1f14-4593-859b-53e7603c3977",
   "metadata": {},
   "outputs": [
    {
     "data": {
      "text/plain": [
       "Text(0, 0.5, 'y_pred')"
      ]
     },
     "execution_count": 194,
     "metadata": {},
     "output_type": "execute_result"
    },
    {
     "data": {
      "image/png": "[encoded data removed]",
      "text/plain": [
       "<Figure size 640x480 with 1 Axes>"
      ]
     },
     "metadata": {},
     "output_type": "display_data"
    }
   ],
   "source": [
    "plt.scatter(y_test,y_pred,alpha=0.5)\n",
    "plt.xlabel(\"y-test\")\n",
    "plt.ylabel(\"y_pred\")"
   ]
  },
  {
   "cell_type": "code",
   "execution_count": 195,
   "id": "f4efee8a-1cef-4f10-b027-984945b9d9d9",
   "metadata": {},
   "outputs": [],
   "source": [
    "y_pred1 = linear.predict(x_train)"
   ]
  },
  {
   "cell_type": "code",
   "execution_count": 183,
   "id": "c40e0a7e-51c9-44a1-bcb7-2b77328fa90c",
   "metadata": {},
   "outputs": [
    {
     "data": {
      "text/plain": [
       "0.98185826879844"
      ]
     },
     "execution_count": 183,
     "metadata": {},
     "output_type": "execute_result"
    }
   ],
   "source": [
    "from sklearn.metrics import r2_score\n",
    "r2_score(y_train,y_pred1)"
   ]
  },
  {
   "cell_type": "code",
   "execution_count": 185,
   "id": "7c0dd2d8-7566-4236-aa31-155b4ef60744",
   "metadata": {},
   "outputs": [
    {
     "data": {
      "text/plain": [
       "0.8986615557221276"
      ]
     },
     "execution_count": 185,
     "metadata": {},
     "output_type": "execute_result"
    }
   ],
   "source": [
    "from sklearn.metrics import r2_score\n",
    "acc = r2_score(y_test,y_pred)\n",
    "acc"
   ]
  },
  {
   "cell_type": "code",
   "execution_count": 187,
   "id": "8bd682d5-f597-473d-a094-1aa737a08119",
   "metadata": {},
   "outputs": [
    {
     "data": {
      "text/plain": [
       "670.8144563993434"
      ]
     },
     "execution_count": 187,
     "metadata": {},
     "output_type": "execute_result"
    }
   ],
   "source": [
    "from sklearn.metrics import mean_absolute_error\n",
    "mae = mean_absolute_error(y_test,y_pred)\n",
    "mae"
   ]
  },
  {
   "cell_type": "code",
   "execution_count": 189,
   "id": "d18fb02b-2598-46b6-8585-be2525a2315e",
   "metadata": {},
   "outputs": [
    {
     "data": {
      "text/plain": [
       "2186582.0922073186"
      ]
     },
     "execution_count": 189,
     "metadata": {},
     "output_type": "execute_result"
    }
   ],
   "source": [
    "from sklearn.metrics import mean_squared_error\n",
    "mse = mean_squared_error(y_test,y_pred)\n",
    "mse"
   ]
  }
 ],
 "metadata": {
  "kernelspec": {
   "display_name": "Python 3 (ipykernel)",
   "language": "python",
   "name": "python3"
  },
  "language_info": {
   "codemirror_mode": {
    "name": "ipython",
    "version": 3
   },
   "file_extension": ".py",
   "mimetype": "text/x-python",
   "name": "python",
   "nbconvert_exporter": "python",
   "pygments_lexer": "ipython3",
   "version": "3.12.4"
  }
 },
 "nbformat": 4,
 "nbformat_minor": 5
}
